{
 "cells": [
  {
   "cell_type": "markdown",
   "metadata": {
    "_uuid": "929bb7239d67aa71cd065830de8680218023d9ae"
   },
   "source": [
    "In this notebook, I'll use the dataset \"StackSample: 10% of Stack Overflow Q&A\", I'll only use the questions and the tags. \n",
    "I will implement a tag suggestion system. I'll both try machine learning models and deep learning models like Word2Vec. I'll then compare the performance of both approaches. \n",
    "\n",
    "This notebook will be divided in 2 parts:\n",
    "* PART 1 : Cleaning data and EDA\n",
    "* PART 2 : Classical classifiers implemented (SGC classifier, MultiNomial Naive Bayes Classifier, Random Forest Classfier, ...\n"
   ]
  },
  {
   "cell_type": "markdown",
   "metadata": {
    "_uuid": "a7cf70d54413735fe632aaa5df43f34e353e0ff4"
   },
   "source": [
    "**PART 1: Cleaning Data and Exploratory Data Analysis**"
   ]
  },
  {
   "cell_type": "markdown",
   "metadata": {
    "_uuid": "abe58b6f63ad6fc975f6b62c1a47d3af54a943e5"
   },
   "source": [
    "**1.1 Setting up the dataset for later training**"
   ]
  },
  {
   "cell_type": "markdown",
   "metadata": {
    "_uuid": "6ddb1e9c1032972f4c87204650195ee00fb3bb29"
   },
   "source": [
    "Importing useful libraries at first"
   ]
  },
  {
   "cell_type": "code",
   "execution_count": 1,
   "metadata": {
    "_cell_guid": "b1076dfc-b9ad-4769-8c92-a6c4dae69d19",
    "_kg_hide-input": true,
    "_uuid": "8f2839f25d086af736a60e9eeb907d3b93b6e0e5"
   },
   "outputs": [],
   "source": [
    "import pandas as pd\n",
    "import numpy as np\n",
    "\n",
    "\n",
    "import matplotlib.pyplot as plt\n",
    "import matplotlib.lines as mlines\n",
    "import seaborn as sns\n",
    "\n",
    "import warnings\n",
    "\n",
    "import pickle\n",
    "import time\n",
    "\n",
    "import re\n",
    "from bs4 import BeautifulSoup\n",
    "import nltk\n",
    "from nltk.tokenize import ToktokTokenizer\n",
    "from nltk.stem.wordnet import WordNetLemmatizer\n",
    "from nltk.corpus import stopwords\n",
    "from string import punctuation\n",
    "\n",
    "from sklearn.feature_extraction.text import TfidfVectorizer\n",
    "from sklearn.decomposition import LatentDirichletAllocation\n",
    "from sklearn.preprocessing import MultiLabelBinarizer\n",
    "from sklearn.model_selection import train_test_split\n",
    "from sklearn.model_selection import learning_curve\n",
    "from sklearn.model_selection import ShuffleSplit\n",
    "from sklearn.dummy import DummyClassifier\n",
    "from sklearn.naive_bayes import MultinomialNB\n",
    "from sklearn.linear_model import SGDClassifier\n",
    "from sklearn.linear_model import LogisticRegression\n",
    "from sklearn.multiclass import OneVsRestClassifier\n",
    "from sklearn.svm import LinearSVC\n",
    "from sklearn.linear_model import Perceptron\n",
    "from sklearn.linear_model import PassiveAggressiveClassifier\n",
    "from sklearn.neural_network import MLPClassifier\n",
    "from sklearn.ensemble import RandomForestClassifier\n",
    "from sklearn import model_selection\n",
    "from sklearn.metrics import make_scorer\n",
    "from sklearn.metrics import confusion_matrix\n",
    "from sklearn.metrics import hamming_loss\n",
    "from sklearn.cluster import KMeans\n",
    "\n",
    "\n",
    "import logging\n",
    "\n",
    "from scipy.sparse import hstack\n",
    "\n",
    "warnings.filterwarnings(\"ignore\")\n",
    "plt.style.use('bmh')\n",
    "%matplotlib inline"
   ]
  },
  {
   "cell_type": "code",
   "execution_count": 2,
   "metadata": {
    "_cell_guid": "79c7e3d0-c299-4dcb-8224-4455121ee9b0",
    "_uuid": "d629ff2d2480ee46fbb7e2d37f6b5fab8052498a"
   },
   "outputs": [],
   "source": [
    "# Setting a random seed in order to keep the same random results each time I run the notebook\n",
    "np.random.seed(seed=11)"
   ]
  },
  {
   "cell_type": "code",
   "execution_count": 3,
   "metadata": {
    "_uuid": "dc1c92bf4166de1e2ce4bfb229b40b32eb94374a"
   },
   "outputs": [
    {
     "name": "stdout",
     "output_type": "stream",
     "text": [
      "['Answers.csv', 'Questions.csv', 'Tags.csv']\n"
     ]
    }
   ],
   "source": [
    "import os \n",
    "print(os.listdir(\"../input\"))"
   ]
  },
  {
   "cell_type": "code",
   "execution_count": 4,
   "metadata": {
    "_uuid": "120edf8b2306a6391ad992cf3f48598739ec1940"
   },
   "outputs": [],
   "source": [
    "# Importing the database \n",
    "\n",
    "df = pd.read_csv(\"../input/Questions.csv\", encoding=\"ISO-8859-1\")"
   ]
  },
  {
   "cell_type": "code",
   "execution_count": 5,
   "metadata": {
    "_uuid": "40c3e09d38aecf03ce13fd0d88809e80a67d3d1a"
   },
   "outputs": [
    {
     "data": {
      "text/html": [
       "<div>\n",
       "<style scoped>\n",
       "    .dataframe tbody tr th:only-of-type {\n",
       "        vertical-align: middle;\n",
       "    }\n",
       "\n",
       "    .dataframe tbody tr th {\n",
       "        vertical-align: top;\n",
       "    }\n",
       "\n",
       "    .dataframe thead th {\n",
       "        text-align: right;\n",
       "    }\n",
       "</style>\n",
       "<table border=\"1\" class=\"dataframe\">\n",
       "  <thead>\n",
       "    <tr style=\"text-align: right;\">\n",
       "      <th></th>\n",
       "      <th>Id</th>\n",
       "      <th>OwnerUserId</th>\n",
       "      <th>CreationDate</th>\n",
       "      <th>ClosedDate</th>\n",
       "      <th>Score</th>\n",
       "      <th>Title</th>\n",
       "      <th>Body</th>\n",
       "    </tr>\n",
       "  </thead>\n",
       "  <tbody>\n",
       "    <tr>\n",
       "      <th>0</th>\n",
       "      <td>80</td>\n",
       "      <td>26.0</td>\n",
       "      <td>2008-08-01T13:57:07Z</td>\n",
       "      <td>NaN</td>\n",
       "      <td>26</td>\n",
       "      <td>SQLStatement.execute() - multiple queries in o...</td>\n",
       "      <td>&lt;p&gt;I've written a database generation script i...</td>\n",
       "    </tr>\n",
       "    <tr>\n",
       "      <th>1</th>\n",
       "      <td>90</td>\n",
       "      <td>58.0</td>\n",
       "      <td>2008-08-01T14:41:24Z</td>\n",
       "      <td>2012-12-26T03:45:49Z</td>\n",
       "      <td>144</td>\n",
       "      <td>Good branching and merging tutorials for Torto...</td>\n",
       "      <td>&lt;p&gt;Are there any really good tutorials explain...</td>\n",
       "    </tr>\n",
       "    <tr>\n",
       "      <th>2</th>\n",
       "      <td>120</td>\n",
       "      <td>83.0</td>\n",
       "      <td>2008-08-01T15:50:08Z</td>\n",
       "      <td>NaN</td>\n",
       "      <td>21</td>\n",
       "      <td>ASP.NET Site Maps</td>\n",
       "      <td>&lt;p&gt;Has anyone got experience creating &lt;strong&gt;...</td>\n",
       "    </tr>\n",
       "    <tr>\n",
       "      <th>3</th>\n",
       "      <td>180</td>\n",
       "      <td>2089740.0</td>\n",
       "      <td>2008-08-01T18:42:19Z</td>\n",
       "      <td>NaN</td>\n",
       "      <td>53</td>\n",
       "      <td>Function for creating color wheels</td>\n",
       "      <td>&lt;p&gt;This is something I've pseudo-solved many t...</td>\n",
       "    </tr>\n",
       "    <tr>\n",
       "      <th>4</th>\n",
       "      <td>260</td>\n",
       "      <td>91.0</td>\n",
       "      <td>2008-08-01T23:22:08Z</td>\n",
       "      <td>NaN</td>\n",
       "      <td>49</td>\n",
       "      <td>Adding scripting functionality to .NET applica...</td>\n",
       "      <td>&lt;p&gt;I have a little game written in C#. It uses...</td>\n",
       "    </tr>\n",
       "  </tbody>\n",
       "</table>\n",
       "</div>"
      ],
      "text/plain": [
       "    Id                        ...                                                                       Body\n",
       "0   80                        ...                          <p>I've written a database generation script i...\n",
       "1   90                        ...                          <p>Are there any really good tutorials explain...\n",
       "2  120                        ...                          <p>Has anyone got experience creating <strong>...\n",
       "3  180                        ...                          <p>This is something I've pseudo-solved many t...\n",
       "4  260                        ...                          <p>I have a little game written in C#. It uses...\n",
       "\n",
       "[5 rows x 7 columns]"
      ]
     },
     "execution_count": 5,
     "metadata": {},
     "output_type": "execute_result"
    }
   ],
   "source": [
    "df.head(5)"
   ]
  },
  {
   "cell_type": "code",
   "execution_count": 6,
   "metadata": {
    "_uuid": "9beed1bea78dd1ed930caeef2923aef03420e1cc"
   },
   "outputs": [],
   "source": [
    "tags = pd.read_csv(\"../input/Tags.csv\", encoding=\"ISO-8859-1\", dtype={'Tag': str})"
   ]
  },
  {
   "cell_type": "code",
   "execution_count": 7,
   "metadata": {
    "_uuid": "3f4a7e6a7ee2745fc207f19fccb9c0dbc3a571a4"
   },
   "outputs": [
    {
     "data": {
      "text/html": [
       "<div>\n",
       "<style scoped>\n",
       "    .dataframe tbody tr th:only-of-type {\n",
       "        vertical-align: middle;\n",
       "    }\n",
       "\n",
       "    .dataframe tbody tr th {\n",
       "        vertical-align: top;\n",
       "    }\n",
       "\n",
       "    .dataframe thead th {\n",
       "        text-align: right;\n",
       "    }\n",
       "</style>\n",
       "<table border=\"1\" class=\"dataframe\">\n",
       "  <thead>\n",
       "    <tr style=\"text-align: right;\">\n",
       "      <th></th>\n",
       "      <th>Id</th>\n",
       "      <th>Tag</th>\n",
       "    </tr>\n",
       "  </thead>\n",
       "  <tbody>\n",
       "    <tr>\n",
       "      <th>0</th>\n",
       "      <td>80</td>\n",
       "      <td>flex</td>\n",
       "    </tr>\n",
       "    <tr>\n",
       "      <th>1</th>\n",
       "      <td>80</td>\n",
       "      <td>actionscript-3</td>\n",
       "    </tr>\n",
       "    <tr>\n",
       "      <th>2</th>\n",
       "      <td>80</td>\n",
       "      <td>air</td>\n",
       "    </tr>\n",
       "    <tr>\n",
       "      <th>3</th>\n",
       "      <td>90</td>\n",
       "      <td>svn</td>\n",
       "    </tr>\n",
       "    <tr>\n",
       "      <th>4</th>\n",
       "      <td>90</td>\n",
       "      <td>tortoisesvn</td>\n",
       "    </tr>\n",
       "  </tbody>\n",
       "</table>\n",
       "</div>"
      ],
      "text/plain": [
       "   Id             Tag\n",
       "0  80            flex\n",
       "1  80  actionscript-3\n",
       "2  80             air\n",
       "3  90             svn\n",
       "4  90     tortoisesvn"
      ]
     },
     "execution_count": 7,
     "metadata": {},
     "output_type": "execute_result"
    }
   ],
   "source": [
    "tags.head(5)"
   ]
  },
  {
   "cell_type": "code",
   "execution_count": 8,
   "metadata": {
    "_uuid": "ab191660e879734a6c26d1c1f2afd0e1218a50fc"
   },
   "outputs": [
    {
     "name": "stdout",
     "output_type": "stream",
     "text": [
      "<class 'pandas.core.frame.DataFrame'>\n",
      "RangeIndex: 1264216 entries, 0 to 1264215\n",
      "Data columns (total 7 columns):\n",
      "Id              1264216 non-null int64\n",
      "OwnerUserId     1249762 non-null float64\n",
      "CreationDate    1264216 non-null object\n",
      "ClosedDate      55959 non-null object\n",
      "Score           1264216 non-null int64\n",
      "Title           1264216 non-null object\n",
      "Body            1264216 non-null object\n",
      "dtypes: float64(1), int64(2), object(4)\n",
      "memory usage: 67.5+ MB\n"
     ]
    }
   ],
   "source": [
    "df.info()"
   ]
  },
  {
   "cell_type": "code",
   "execution_count": 9,
   "metadata": {
    "_uuid": "b71d45e2c86152d95f22679f01d8f855b042a62e"
   },
   "outputs": [
    {
     "name": "stdout",
     "output_type": "stream",
     "text": [
      "<class 'pandas.core.frame.DataFrame'>\n",
      "RangeIndex: 3750994 entries, 0 to 3750993\n",
      "Data columns (total 2 columns):\n",
      "Id     int64\n",
      "Tag    object\n",
      "dtypes: int64(1), object(1)\n",
      "memory usage: 57.2+ MB\n"
     ]
    }
   ],
   "source": [
    "tags.info()"
   ]
  },
  {
   "cell_type": "markdown",
   "metadata": {
    "_uuid": "ec6a03e07edd3ce3de1f20f073bdf18ffca87f4c"
   },
   "source": [
    "First, what I want to do is to merge both dataframes. In order to do that, I'll have to group tags by the id of the post since a post can have multiple tags. I'll just use the groupeby function and then merge the dataframes on the id. "
   ]
  },
  {
   "cell_type": "code",
   "execution_count": 10,
   "metadata": {
    "_uuid": "933761c8b2bdb668e0bca3c9ea9cab36dd1a4391"
   },
   "outputs": [],
   "source": [
    "tags['Tag'] = tags['Tag'].astype(str)"
   ]
  },
  {
   "cell_type": "code",
   "execution_count": 11,
   "metadata": {
    "_kg_hide-output": true,
    "_uuid": "267d7c8f01a3b427ab139d689ce5d13ab8820913"
   },
   "outputs": [],
   "source": [
    "grouped_tags = tags.groupby(\"Id\")['Tag'].apply(lambda tags: ' '.join(tags))"
   ]
  },
  {
   "cell_type": "code",
   "execution_count": 12,
   "metadata": {
    "_uuid": "d4096130e47ec904f9bbe27822d1ddf403a675dc"
   },
   "outputs": [
    {
     "data": {
      "text/plain": [
       "Id\n",
       "80                            flex actionscript-3 air\n",
       "90       svn tortoisesvn branch branching-and-merging\n",
       "120                               sql asp.net sitemap\n",
       "180    algorithm language-agnostic colors color-space\n",
       "260           c# .net scripting compiler-construction\n",
       "Name: Tag, dtype: object"
      ]
     },
     "execution_count": 12,
     "metadata": {},
     "output_type": "execute_result"
    }
   ],
   "source": [
    "grouped_tags.head(5)"
   ]
  },
  {
   "cell_type": "code",
   "execution_count": 13,
   "metadata": {
    "_kg_hide-output": true,
    "_uuid": "a9ecae8a6445c671d9c0a1b207df8b530bae70ab"
   },
   "outputs": [
    {
     "data": {
      "text/html": [
       "<div>\n",
       "<style scoped>\n",
       "    .dataframe tbody tr th:only-of-type {\n",
       "        vertical-align: middle;\n",
       "    }\n",
       "\n",
       "    .dataframe tbody tr th {\n",
       "        vertical-align: top;\n",
       "    }\n",
       "\n",
       "    .dataframe thead th {\n",
       "        text-align: right;\n",
       "    }\n",
       "</style>\n",
       "<table border=\"1\" class=\"dataframe\">\n",
       "  <thead>\n",
       "    <tr style=\"text-align: right;\">\n",
       "      <th></th>\n",
       "      <th>Id</th>\n",
       "      <th>Tag</th>\n",
       "    </tr>\n",
       "  </thead>\n",
       "  <tbody>\n",
       "    <tr>\n",
       "      <th>0</th>\n",
       "      <td>80</td>\n",
       "      <td>flex actionscript-3 air</td>\n",
       "    </tr>\n",
       "    <tr>\n",
       "      <th>1</th>\n",
       "      <td>90</td>\n",
       "      <td>svn tortoisesvn branch branching-and-merging</td>\n",
       "    </tr>\n",
       "    <tr>\n",
       "      <th>2</th>\n",
       "      <td>120</td>\n",
       "      <td>sql asp.net sitemap</td>\n",
       "    </tr>\n",
       "    <tr>\n",
       "      <th>3</th>\n",
       "      <td>180</td>\n",
       "      <td>algorithm language-agnostic colors color-space</td>\n",
       "    </tr>\n",
       "    <tr>\n",
       "      <th>4</th>\n",
       "      <td>260</td>\n",
       "      <td>c# .net scripting compiler-construction</td>\n",
       "    </tr>\n",
       "    <tr>\n",
       "      <th>5</th>\n",
       "      <td>330</td>\n",
       "      <td>c++ oop class nested-class</td>\n",
       "    </tr>\n",
       "    <tr>\n",
       "      <th>6</th>\n",
       "      <td>470</td>\n",
       "      <td>.net web-services</td>\n",
       "    </tr>\n",
       "    <tr>\n",
       "      <th>7</th>\n",
       "      <td>580</td>\n",
       "      <td>sql-server sql-server-2005 deployment release-...</td>\n",
       "    </tr>\n",
       "    <tr>\n",
       "      <th>8</th>\n",
       "      <td>650</td>\n",
       "      <td>c# visual-studio versioning</td>\n",
       "    </tr>\n",
       "    <tr>\n",
       "      <th>9</th>\n",
       "      <td>810</td>\n",
       "      <td>windows visual-studio registry installation</td>\n",
       "    </tr>\n",
       "    <tr>\n",
       "      <th>10</th>\n",
       "      <td>930</td>\n",
       "      <td>c# database loops connection</td>\n",
       "    </tr>\n",
       "    <tr>\n",
       "      <th>11</th>\n",
       "      <td>1010</td>\n",
       "      <td>c# asp.net</td>\n",
       "    </tr>\n",
       "    <tr>\n",
       "      <th>12</th>\n",
       "      <td>1040</td>\n",
       "      <td>c# file-locking</td>\n",
       "    </tr>\n",
       "    <tr>\n",
       "      <th>13</th>\n",
       "      <td>1070</td>\n",
       "      <td>unix size</td>\n",
       "    </tr>\n",
       "    <tr>\n",
       "      <th>14</th>\n",
       "      <td>1160</td>\n",
       "      <td>svn msbuild cruisecontrol.net</td>\n",
       "    </tr>\n",
       "    <tr>\n",
       "      <th>15</th>\n",
       "      <td>1180</td>\n",
       "      <td>web-applications dns subdomain account</td>\n",
       "    </tr>\n",
       "    <tr>\n",
       "      <th>16</th>\n",
       "      <td>1300</td>\n",
       "      <td>.net .net-3.5 msbuild nant</td>\n",
       "    </tr>\n",
       "    <tr>\n",
       "      <th>17</th>\n",
       "      <td>1390</td>\n",
       "      <td>sql-server windows-server-2008</td>\n",
       "    </tr>\n",
       "    <tr>\n",
       "      <th>18</th>\n",
       "      <td>1600</td>\n",
       "      <td>sql-server sql-server-2008</td>\n",
       "    </tr>\n",
       "    <tr>\n",
       "      <th>19</th>\n",
       "      <td>1610</td>\n",
       "      <td>sql-server</td>\n",
       "    </tr>\n",
       "    <tr>\n",
       "      <th>20</th>\n",
       "      <td>1760</td>\n",
       "      <td>c# .net unit-testing testing</td>\n",
       "    </tr>\n",
       "    <tr>\n",
       "      <th>21</th>\n",
       "      <td>1790</td>\n",
       "      <td>svn version-control</td>\n",
       "    </tr>\n",
       "    <tr>\n",
       "      <th>22</th>\n",
       "      <td>1970</td>\n",
       "      <td>sql database postgresql stored-procedures trig...</td>\n",
       "    </tr>\n",
       "    <tr>\n",
       "      <th>23</th>\n",
       "      <td>2120</td>\n",
       "      <td>sql sql-server</td>\n",
       "    </tr>\n",
       "    <tr>\n",
       "      <th>24</th>\n",
       "      <td>2250</td>\n",
       "      <td>c# dataset datatable</td>\n",
       "    </tr>\n",
       "    <tr>\n",
       "      <th>25</th>\n",
       "      <td>2300</td>\n",
       "      <td>asp-classic vbscript</td>\n",
       "    </tr>\n",
       "    <tr>\n",
       "      <th>26</th>\n",
       "      <td>2530</td>\n",
       "      <td>html autocomplete</td>\n",
       "    </tr>\n",
       "    <tr>\n",
       "      <th>27</th>\n",
       "      <td>2540</td>\n",
       "      <td>c architecture data-structures</td>\n",
       "    </tr>\n",
       "    <tr>\n",
       "      <th>28</th>\n",
       "      <td>2550</td>\n",
       "      <td>asp.net flash video embed</td>\n",
       "    </tr>\n",
       "    <tr>\n",
       "      <th>29</th>\n",
       "      <td>2630</td>\n",
       "      <td>powershell cmdlets</td>\n",
       "    </tr>\n",
       "    <tr>\n",
       "      <th>...</th>\n",
       "      <td>...</td>\n",
       "      <td>...</td>\n",
       "    </tr>\n",
       "    <tr>\n",
       "      <th>1264186</th>\n",
       "      <td>40142590</td>\n",
       "      <td>javascript jquery html date</td>\n",
       "    </tr>\n",
       "    <tr>\n",
       "      <th>1264187</th>\n",
       "      <td>40142600</td>\n",
       "      <td>python</td>\n",
       "    </tr>\n",
       "    <tr>\n",
       "      <th>1264188</th>\n",
       "      <td>40142610</td>\n",
       "      <td>audio soundcloud</td>\n",
       "    </tr>\n",
       "    <tr>\n",
       "      <th>1264189</th>\n",
       "      <td>40142700</td>\n",
       "      <td>php jquery ajax binary x-sendfile</td>\n",
       "    </tr>\n",
       "    <tr>\n",
       "      <th>1264190</th>\n",
       "      <td>40142730</td>\n",
       "      <td>angular2 typescript</td>\n",
       "    </tr>\n",
       "    <tr>\n",
       "      <th>1264191</th>\n",
       "      <td>40142750</td>\n",
       "      <td>amazon-dynamodb</td>\n",
       "    </tr>\n",
       "    <tr>\n",
       "      <th>1264192</th>\n",
       "      <td>40142760</td>\n",
       "      <td>javascript google-apps-script</td>\n",
       "    </tr>\n",
       "    <tr>\n",
       "      <th>1264193</th>\n",
       "      <td>40142780</td>\n",
       "      <td>c</td>\n",
       "    </tr>\n",
       "    <tr>\n",
       "      <th>1264194</th>\n",
       "      <td>40142790</td>\n",
       "      <td>c++</td>\n",
       "    </tr>\n",
       "    <tr>\n",
       "      <th>1264195</th>\n",
       "      <td>40142820</td>\n",
       "      <td>asp.net-mvc kendo-ui treelist kendo-treelist</td>\n",
       "    </tr>\n",
       "    <tr>\n",
       "      <th>1264196</th>\n",
       "      <td>40142840</td>\n",
       "      <td>python django amazon-web-services internal-ser...</td>\n",
       "    </tr>\n",
       "    <tr>\n",
       "      <th>1264197</th>\n",
       "      <td>40142860</td>\n",
       "      <td>excel excel-formula</td>\n",
       "    </tr>\n",
       "    <tr>\n",
       "      <th>1264198</th>\n",
       "      <td>40142870</td>\n",
       "      <td>c# asp.net-mvc remote-validation</td>\n",
       "    </tr>\n",
       "    <tr>\n",
       "      <th>1264199</th>\n",
       "      <td>40142880</td>\n",
       "      <td>cmake cross-compiling</td>\n",
       "    </tr>\n",
       "    <tr>\n",
       "      <th>1264200</th>\n",
       "      <td>40142900</td>\n",
       "      <td>api oauth linkedin</td>\n",
       "    </tr>\n",
       "    <tr>\n",
       "      <th>1264201</th>\n",
       "      <td>40142910</td>\n",
       "      <td>ruby-on-rails validation ruby-on-rails-4</td>\n",
       "    </tr>\n",
       "    <tr>\n",
       "      <th>1264202</th>\n",
       "      <td>40142920</td>\n",
       "      <td>linux ubuntu gcc gcc4.6</td>\n",
       "    </tr>\n",
       "    <tr>\n",
       "      <th>1264203</th>\n",
       "      <td>40142940</td>\n",
       "      <td>c++</td>\n",
       "    </tr>\n",
       "    <tr>\n",
       "      <th>1264204</th>\n",
       "      <td>40143010</td>\n",
       "      <td>jquery ajax</td>\n",
       "    </tr>\n",
       "    <tr>\n",
       "      <th>1264205</th>\n",
       "      <td>40143070</td>\n",
       "      <td>haskell types functional-programming agda lamb...</td>\n",
       "    </tr>\n",
       "    <tr>\n",
       "      <th>1264206</th>\n",
       "      <td>40143110</td>\n",
       "      <td>android android-activity android-lifecycle</td>\n",
       "    </tr>\n",
       "    <tr>\n",
       "      <th>1264207</th>\n",
       "      <td>40143140</td>\n",
       "      <td>spring-data-rest</td>\n",
       "    </tr>\n",
       "    <tr>\n",
       "      <th>1264208</th>\n",
       "      <td>40143150</td>\n",
       "      <td>javascript youtube youtube-iframe-api</td>\n",
       "    </tr>\n",
       "    <tr>\n",
       "      <th>1264209</th>\n",
       "      <td>40143170</td>\n",
       "      <td>laravel binding model routes</td>\n",
       "    </tr>\n",
       "    <tr>\n",
       "      <th>1264210</th>\n",
       "      <td>40143190</td>\n",
       "      <td>python bash multiline</td>\n",
       "    </tr>\n",
       "    <tr>\n",
       "      <th>1264211</th>\n",
       "      <td>40143210</td>\n",
       "      <td>php .htaccess</td>\n",
       "    </tr>\n",
       "    <tr>\n",
       "      <th>1264212</th>\n",
       "      <td>40143300</td>\n",
       "      <td>google-bigquery</td>\n",
       "    </tr>\n",
       "    <tr>\n",
       "      <th>1264213</th>\n",
       "      <td>40143340</td>\n",
       "      <td>android android-studio</td>\n",
       "    </tr>\n",
       "    <tr>\n",
       "      <th>1264214</th>\n",
       "      <td>40143360</td>\n",
       "      <td>javascript vue.js</td>\n",
       "    </tr>\n",
       "    <tr>\n",
       "      <th>1264215</th>\n",
       "      <td>40143380</td>\n",
       "      <td>npm mocha babel</td>\n",
       "    </tr>\n",
       "  </tbody>\n",
       "</table>\n",
       "<p>1264216 rows × 2 columns</p>\n",
       "</div>"
      ],
      "text/plain": [
       "               Id                                                Tag\n",
       "0              80                            flex actionscript-3 air\n",
       "1              90       svn tortoisesvn branch branching-and-merging\n",
       "2             120                                sql asp.net sitemap\n",
       "3             180     algorithm language-agnostic colors color-space\n",
       "4             260            c# .net scripting compiler-construction\n",
       "5             330                         c++ oop class nested-class\n",
       "6             470                                  .net web-services\n",
       "7             580  sql-server sql-server-2005 deployment release-...\n",
       "8             650                        c# visual-studio versioning\n",
       "9             810        windows visual-studio registry installation\n",
       "10            930                       c# database loops connection\n",
       "11           1010                                         c# asp.net\n",
       "12           1040                                    c# file-locking\n",
       "13           1070                                          unix size\n",
       "14           1160                      svn msbuild cruisecontrol.net\n",
       "15           1180             web-applications dns subdomain account\n",
       "16           1300                         .net .net-3.5 msbuild nant\n",
       "17           1390                     sql-server windows-server-2008\n",
       "18           1600                         sql-server sql-server-2008\n",
       "19           1610                                         sql-server\n",
       "20           1760                       c# .net unit-testing testing\n",
       "21           1790                                svn version-control\n",
       "22           1970  sql database postgresql stored-procedures trig...\n",
       "23           2120                                     sql sql-server\n",
       "24           2250                               c# dataset datatable\n",
       "25           2300                               asp-classic vbscript\n",
       "26           2530                                  html autocomplete\n",
       "27           2540                     c architecture data-structures\n",
       "28           2550                          asp.net flash video embed\n",
       "29           2630                                 powershell cmdlets\n",
       "...           ...                                                ...\n",
       "1264186  40142590                        javascript jquery html date\n",
       "1264187  40142600                                             python\n",
       "1264188  40142610                                   audio soundcloud\n",
       "1264189  40142700                  php jquery ajax binary x-sendfile\n",
       "1264190  40142730                                angular2 typescript\n",
       "1264191  40142750                                    amazon-dynamodb\n",
       "1264192  40142760                      javascript google-apps-script\n",
       "1264193  40142780                                                  c\n",
       "1264194  40142790                                                c++\n",
       "1264195  40142820       asp.net-mvc kendo-ui treelist kendo-treelist\n",
       "1264196  40142840  python django amazon-web-services internal-ser...\n",
       "1264197  40142860                                excel excel-formula\n",
       "1264198  40142870                   c# asp.net-mvc remote-validation\n",
       "1264199  40142880                              cmake cross-compiling\n",
       "1264200  40142900                                 api oauth linkedin\n",
       "1264201  40142910           ruby-on-rails validation ruby-on-rails-4\n",
       "1264202  40142920                            linux ubuntu gcc gcc4.6\n",
       "1264203  40142940                                                c++\n",
       "1264204  40143010                                        jquery ajax\n",
       "1264205  40143070  haskell types functional-programming agda lamb...\n",
       "1264206  40143110         android android-activity android-lifecycle\n",
       "1264207  40143140                                   spring-data-rest\n",
       "1264208  40143150              javascript youtube youtube-iframe-api\n",
       "1264209  40143170                       laravel binding model routes\n",
       "1264210  40143190                              python bash multiline\n",
       "1264211  40143210                                      php .htaccess\n",
       "1264212  40143300                                    google-bigquery\n",
       "1264213  40143340                             android android-studio\n",
       "1264214  40143360                                  javascript vue.js\n",
       "1264215  40143380                                    npm mocha babel\n",
       "\n",
       "[1264216 rows x 2 columns]"
      ]
     },
     "execution_count": 13,
     "metadata": {},
     "output_type": "execute_result"
    }
   ],
   "source": [
    "grouped_tags.reset_index()"
   ]
  },
  {
   "cell_type": "code",
   "execution_count": 14,
   "metadata": {
    "_uuid": "8da81a33552cd273c80e159e0c1cc8dddc98399c"
   },
   "outputs": [],
   "source": [
    "grouped_tags_final = pd.DataFrame({'Id':grouped_tags.index, 'Tags':grouped_tags.values})"
   ]
  },
  {
   "cell_type": "code",
   "execution_count": 15,
   "metadata": {
    "_uuid": "9968760c364a005b7de54bd908cfc612fc9defe8"
   },
   "outputs": [
    {
     "data": {
      "text/html": [
       "<div>\n",
       "<style scoped>\n",
       "    .dataframe tbody tr th:only-of-type {\n",
       "        vertical-align: middle;\n",
       "    }\n",
       "\n",
       "    .dataframe tbody tr th {\n",
       "        vertical-align: top;\n",
       "    }\n",
       "\n",
       "    .dataframe thead th {\n",
       "        text-align: right;\n",
       "    }\n",
       "</style>\n",
       "<table border=\"1\" class=\"dataframe\">\n",
       "  <thead>\n",
       "    <tr style=\"text-align: right;\">\n",
       "      <th></th>\n",
       "      <th>Id</th>\n",
       "      <th>Tags</th>\n",
       "    </tr>\n",
       "  </thead>\n",
       "  <tbody>\n",
       "    <tr>\n",
       "      <th>0</th>\n",
       "      <td>80</td>\n",
       "      <td>flex actionscript-3 air</td>\n",
       "    </tr>\n",
       "    <tr>\n",
       "      <th>1</th>\n",
       "      <td>90</td>\n",
       "      <td>svn tortoisesvn branch branching-and-merging</td>\n",
       "    </tr>\n",
       "    <tr>\n",
       "      <th>2</th>\n",
       "      <td>120</td>\n",
       "      <td>sql asp.net sitemap</td>\n",
       "    </tr>\n",
       "    <tr>\n",
       "      <th>3</th>\n",
       "      <td>180</td>\n",
       "      <td>algorithm language-agnostic colors color-space</td>\n",
       "    </tr>\n",
       "    <tr>\n",
       "      <th>4</th>\n",
       "      <td>260</td>\n",
       "      <td>c# .net scripting compiler-construction</td>\n",
       "    </tr>\n",
       "  </tbody>\n",
       "</table>\n",
       "</div>"
      ],
      "text/plain": [
       "    Id                                            Tags\n",
       "0   80                         flex actionscript-3 air\n",
       "1   90    svn tortoisesvn branch branching-and-merging\n",
       "2  120                             sql asp.net sitemap\n",
       "3  180  algorithm language-agnostic colors color-space\n",
       "4  260         c# .net scripting compiler-construction"
      ]
     },
     "execution_count": 15,
     "metadata": {},
     "output_type": "execute_result"
    }
   ],
   "source": [
    "grouped_tags_final.head(5)"
   ]
  },
  {
   "cell_type": "code",
   "execution_count": 16,
   "metadata": {
    "_uuid": "2612dea031562d420f8dac14801d167721d2bcc9"
   },
   "outputs": [],
   "source": [
    "df.drop(columns=['OwnerUserId', 'CreationDate', 'ClosedDate'], inplace=True)"
   ]
  },
  {
   "cell_type": "code",
   "execution_count": 17,
   "metadata": {
    "_uuid": "bd794a28df6e19818c754702ed5f3745262d866f"
   },
   "outputs": [],
   "source": [
    "df = df.merge(grouped_tags_final, on='Id')"
   ]
  },
  {
   "cell_type": "code",
   "execution_count": 18,
   "metadata": {
    "_uuid": "132c4501747d2832eaf8d95f5d9cb3acaadc97f4",
    "scrolled": true
   },
   "outputs": [
    {
     "data": {
      "text/html": [
       "<div>\n",
       "<style scoped>\n",
       "    .dataframe tbody tr th:only-of-type {\n",
       "        vertical-align: middle;\n",
       "    }\n",
       "\n",
       "    .dataframe tbody tr th {\n",
       "        vertical-align: top;\n",
       "    }\n",
       "\n",
       "    .dataframe thead th {\n",
       "        text-align: right;\n",
       "    }\n",
       "</style>\n",
       "<table border=\"1\" class=\"dataframe\">\n",
       "  <thead>\n",
       "    <tr style=\"text-align: right;\">\n",
       "      <th></th>\n",
       "      <th>Id</th>\n",
       "      <th>Score</th>\n",
       "      <th>Title</th>\n",
       "      <th>Body</th>\n",
       "      <th>Tags</th>\n",
       "    </tr>\n",
       "  </thead>\n",
       "  <tbody>\n",
       "    <tr>\n",
       "      <th>0</th>\n",
       "      <td>80</td>\n",
       "      <td>26</td>\n",
       "      <td>SQLStatement.execute() - multiple queries in o...</td>\n",
       "      <td>&lt;p&gt;I've written a database generation script i...</td>\n",
       "      <td>flex actionscript-3 air</td>\n",
       "    </tr>\n",
       "    <tr>\n",
       "      <th>1</th>\n",
       "      <td>90</td>\n",
       "      <td>144</td>\n",
       "      <td>Good branching and merging tutorials for Torto...</td>\n",
       "      <td>&lt;p&gt;Are there any really good tutorials explain...</td>\n",
       "      <td>svn tortoisesvn branch branching-and-merging</td>\n",
       "    </tr>\n",
       "    <tr>\n",
       "      <th>2</th>\n",
       "      <td>120</td>\n",
       "      <td>21</td>\n",
       "      <td>ASP.NET Site Maps</td>\n",
       "      <td>&lt;p&gt;Has anyone got experience creating &lt;strong&gt;...</td>\n",
       "      <td>sql asp.net sitemap</td>\n",
       "    </tr>\n",
       "    <tr>\n",
       "      <th>3</th>\n",
       "      <td>180</td>\n",
       "      <td>53</td>\n",
       "      <td>Function for creating color wheels</td>\n",
       "      <td>&lt;p&gt;This is something I've pseudo-solved many t...</td>\n",
       "      <td>algorithm language-agnostic colors color-space</td>\n",
       "    </tr>\n",
       "    <tr>\n",
       "      <th>4</th>\n",
       "      <td>260</td>\n",
       "      <td>49</td>\n",
       "      <td>Adding scripting functionality to .NET applica...</td>\n",
       "      <td>&lt;p&gt;I have a little game written in C#. It uses...</td>\n",
       "      <td>c# .net scripting compiler-construction</td>\n",
       "    </tr>\n",
       "  </tbody>\n",
       "</table>\n",
       "</div>"
      ],
      "text/plain": [
       "    Id                       ...                                                                  Tags\n",
       "0   80                       ...                                               flex actionscript-3 air\n",
       "1   90                       ...                          svn tortoisesvn branch branching-and-merging\n",
       "2  120                       ...                                                   sql asp.net sitemap\n",
       "3  180                       ...                        algorithm language-agnostic colors color-space\n",
       "4  260                       ...                               c# .net scripting compiler-construction\n",
       "\n",
       "[5 rows x 5 columns]"
      ]
     },
     "execution_count": 18,
     "metadata": {},
     "output_type": "execute_result"
    }
   ],
   "source": [
    "df.head(5)"
   ]
  },
  {
   "cell_type": "markdown",
   "metadata": {
    "_uuid": "df4a7b2e88af524f4bd778c223d580de76c57cf7"
   },
   "source": [
    "Now, I'll take only quesions witha score greater than 5. I'm doing that for 2 reasons:\n",
    "* 1- I'll require less computational resources from kaggle.\n",
    "* 2- The posts will probably be with a better quality and will be better tagged since they have lots of upvotes. \n"
   ]
  },
  {
   "cell_type": "code",
   "execution_count": 19,
   "metadata": {
    "_uuid": "ecebe90606c70e84e4e87e1661e49a11c37e529f"
   },
   "outputs": [],
   "source": [
    "new_df = df[df['Score']>5]"
   ]
  },
  {
   "cell_type": "markdown",
   "metadata": {
    "_uuid": "e462e56ec2d84a0f3810d53bee3715cb570907f1"
   },
   "source": [
    "**1.2 Cleaning Data**"
   ]
  },
  {
   "cell_type": "code",
   "execution_count": 20,
   "metadata": {
    "_uuid": "2f966f3733dfc5668fd20af7850302c8c2bbdbf7"
   },
   "outputs": [
    {
     "data": {
      "text/plain": [
       "Text(0.5,1,'Ratio of missing values per columns')"
      ]
     },
     "execution_count": 20,
     "metadata": {},
     "output_type": "execute_result"
    },
    {
     "data": {
      "image/png": "[encoded data removed]",
      "text/plain": [
       "<Figure size 360x360 with 1 Axes>"
      ]
     },
     "metadata": {},
     "output_type": "display_data"
    }
   ],
   "source": [
    "plt.figure(figsize=(5, 5))\n",
    "new_df.isnull().mean(axis=0).plot.barh()\n",
    "plt.title(\"Ratio of missing values per columns\")"
   ]
  },
  {
   "cell_type": "code",
   "execution_count": 21,
   "metadata": {
    "_uuid": "1550d62d082219a8c8564f8a95afb121d9096c67",
    "scrolled": true
   },
   "outputs": [
    {
     "name": "stdout",
     "output_type": "stream",
     "text": [
      "Dupplicate entries: 0\n"
     ]
    }
   ],
   "source": [
    "print('Dupplicate entries: {}'.format(new_df.duplicated().sum()))\n",
    "new_df.drop_duplicates(inplace = True)"
   ]
  },
  {
   "cell_type": "markdown",
   "metadata": {
    "_uuid": "097a6864ce893217365a3dca22bb68b442746740"
   },
   "source": [
    "This is a very good dataset since there are no missing valeus or dupplicate values. "
   ]
  },
  {
   "cell_type": "code",
   "execution_count": 22,
   "metadata": {
    "_uuid": "6ed21b85891cb57be8273aa41443e6c8198c0d0c"
   },
   "outputs": [],
   "source": [
    "new_df.drop(columns=['Id', 'Score'], inplace=True)"
   ]
  },
  {
   "cell_type": "markdown",
   "metadata": {
    "_uuid": "4c6033e87a6ca08eeca49f64b8ca1bf6a9a2d11b"
   },
   "source": [
    "Now we only need 3 columns: Body, Title and Tags. "
   ]
  },
  {
   "cell_type": "markdown",
   "metadata": {
    "_uuid": "d3a6dc67414c2faf61fc32adf821d5d6c5a00e4e"
   },
   "source": [
    "**1.2.1 Tags**"
   ]
  },
  {
   "cell_type": "markdown",
   "metadata": {
    "_uuid": "7d52b54ca515eb7ef5a9545b9f722090abc4c683"
   },
   "source": [
    "Let's do some cleaning on the tags' column. Furthermore, I decided to keep the 100 most popular tags because I'll be easier to predict the right tag from 100 words than from 14,000 and because we want to keep macro tags and not be too specific since it's only a recommendation for a post, the user can add more specific tags himself. "
   ]
  },
  {
   "cell_type": "code",
   "execution_count": 23,
   "metadata": {
    "_uuid": "f52f8b1079382f88516dd1df91aeaebe6d4f1dc4"
   },
   "outputs": [
    {
     "data": {
      "text/html": [
       "<div>\n",
       "<style scoped>\n",
       "    .dataframe tbody tr th:only-of-type {\n",
       "        vertical-align: middle;\n",
       "    }\n",
       "\n",
       "    .dataframe tbody tr th {\n",
       "        vertical-align: top;\n",
       "    }\n",
       "\n",
       "    .dataframe thead th {\n",
       "        text-align: right;\n",
       "    }\n",
       "</style>\n",
       "<table border=\"1\" class=\"dataframe\">\n",
       "  <thead>\n",
       "    <tr style=\"text-align: right;\">\n",
       "      <th></th>\n",
       "      <th>Title</th>\n",
       "      <th>Body</th>\n",
       "      <th>Tags</th>\n",
       "    </tr>\n",
       "  </thead>\n",
       "  <tbody>\n",
       "    <tr>\n",
       "      <th>0</th>\n",
       "      <td>SQLStatement.execute() - multiple queries in o...</td>\n",
       "      <td>&lt;p&gt;I've written a database generation script i...</td>\n",
       "      <td>flex actionscript-3 air</td>\n",
       "    </tr>\n",
       "    <tr>\n",
       "      <th>1</th>\n",
       "      <td>Good branching and merging tutorials for Torto...</td>\n",
       "      <td>&lt;p&gt;Are there any really good tutorials explain...</td>\n",
       "      <td>svn tortoisesvn branch branching-and-merging</td>\n",
       "    </tr>\n",
       "    <tr>\n",
       "      <th>2</th>\n",
       "      <td>ASP.NET Site Maps</td>\n",
       "      <td>&lt;p&gt;Has anyone got experience creating &lt;strong&gt;...</td>\n",
       "      <td>sql asp.net sitemap</td>\n",
       "    </tr>\n",
       "    <tr>\n",
       "      <th>3</th>\n",
       "      <td>Function for creating color wheels</td>\n",
       "      <td>&lt;p&gt;This is something I've pseudo-solved many t...</td>\n",
       "      <td>algorithm language-agnostic colors color-space</td>\n",
       "    </tr>\n",
       "    <tr>\n",
       "      <th>4</th>\n",
       "      <td>Adding scripting functionality to .NET applica...</td>\n",
       "      <td>&lt;p&gt;I have a little game written in C#. It uses...</td>\n",
       "      <td>c# .net scripting compiler-construction</td>\n",
       "    </tr>\n",
       "  </tbody>\n",
       "</table>\n",
       "</div>"
      ],
      "text/plain": [
       "                                               Title                       ...                                                                  Tags\n",
       "0  SQLStatement.execute() - multiple queries in o...                       ...                                               flex actionscript-3 air\n",
       "1  Good branching and merging tutorials for Torto...                       ...                          svn tortoisesvn branch branching-and-merging\n",
       "2                                  ASP.NET Site Maps                       ...                                                   sql asp.net sitemap\n",
       "3                 Function for creating color wheels                       ...                        algorithm language-agnostic colors color-space\n",
       "4  Adding scripting functionality to .NET applica...                       ...                               c# .net scripting compiler-construction\n",
       "\n",
       "[5 rows x 3 columns]"
      ]
     },
     "execution_count": 23,
     "metadata": {},
     "output_type": "execute_result"
    }
   ],
   "source": [
    "new_df.head(5)"
   ]
  },
  {
   "cell_type": "code",
   "execution_count": 24,
   "metadata": {
    "_kg_hide-output": true,
    "_uuid": "d112c6cca7ac7b8fecfafdecfe3c75820a8b6f8c"
   },
   "outputs": [],
   "source": [
    "new_df['Tags'] = new_df['Tags'].apply(lambda x: x.split())"
   ]
  },
  {
   "cell_type": "code",
   "execution_count": 25,
   "metadata": {
    "_uuid": "84505cde455a6d528b08e72688caa6c092893388"
   },
   "outputs": [],
   "source": [
    "all_tags = [item for sublist in new_df['Tags'].values for item in sublist]"
   ]
  },
  {
   "cell_type": "code",
   "execution_count": 26,
   "metadata": {
    "_uuid": "79be7667451d41ac7cd9ef52b7edae19a8c9e846"
   },
   "outputs": [
    {
     "data": {
      "text/plain": [
       "224129"
      ]
     },
     "execution_count": 26,
     "metadata": {},
     "output_type": "execute_result"
    }
   ],
   "source": [
    "len(all_tags)"
   ]
  },
  {
   "cell_type": "code",
   "execution_count": 27,
   "metadata": {
    "_uuid": "0a7e3c76664f2bbcbab52d1ecbf445e8451d877d"
   },
   "outputs": [
    {
     "data": {
      "text/plain": [
       "14883"
      ]
     },
     "execution_count": 27,
     "metadata": {},
     "output_type": "execute_result"
    }
   ],
   "source": [
    "my_set = set(all_tags)\n",
    "unique_tags = list(my_set)\n",
    "len(unique_tags)"
   ]
  },
  {
   "cell_type": "code",
   "execution_count": 28,
   "metadata": {
    "_uuid": "56cecaeb6a313c81202a08fbcca65e33da95b3be"
   },
   "outputs": [],
   "source": [
    "flat_list = [item for sublist in new_df['Tags'].values for item in sublist]\n",
    "\n",
    "keywords = nltk.FreqDist(flat_list)\n",
    "\n",
    "keywords = nltk.FreqDist(keywords)\n",
    "\n",
    "frequencies_words = keywords.most_common(100)\n",
    "tags_features = [word[0] for word in frequencies_words]"
   ]
  },
  {
   "cell_type": "code",
   "execution_count": 29,
   "metadata": {
    "_uuid": "a97a5e5d2e1031394382558d4dc3b54530400005"
   },
   "outputs": [
    {
     "data": {
      "text/plain": [
       "['c#',\n",
       " 'java',\n",
       " 'javascript',\n",
       " 'android',\n",
       " 'python',\n",
       " 'c++',\n",
       " 'php',\n",
       " 'jquery',\n",
       " '.net',\n",
       " 'ios',\n",
       " 'html',\n",
       " 'css',\n",
       " 'c',\n",
       " 'iphone',\n",
       " 'objective-c',\n",
       " 'ruby-on-rails',\n",
       " 'sql',\n",
       " 'asp.net',\n",
       " 'mysql',\n",
       " 'ruby',\n",
       " 'r',\n",
       " 'git',\n",
       " 'asp.net-mvc',\n",
       " 'linux',\n",
       " 'sql-server',\n",
       " 'node.js',\n",
       " 'angularjs',\n",
       " 'django',\n",
       " 'performance',\n",
       " 'algorithm',\n",
       " 'string',\n",
       " 'xcode',\n",
       " 'arrays',\n",
       " 'wpf',\n",
       " 'eclipse',\n",
       " 'haskell',\n",
       " 'windows',\n",
       " 'scala',\n",
       " 'multithreading',\n",
       " 'json',\n",
       " 'c++11',\n",
       " 'regex',\n",
       " 'visual-studio',\n",
       " 'html5',\n",
       " 'osx',\n",
       " 'swift',\n",
       " 'database',\n",
       " 'unit-testing',\n",
       " 'spring',\n",
       " 'xml',\n",
       " 'bash',\n",
       " 'ajax',\n",
       " 'delphi',\n",
       " 'cocoa-touch',\n",
       " 'ruby-on-rails-3',\n",
       " 'visual-studio-2010',\n",
       " 'linq',\n",
       " 'debugging',\n",
       " 'generics',\n",
       " 'perl',\n",
       " 'entity-framework',\n",
       " 'mongodb',\n",
       " 'winforms',\n",
       " 'cocoa',\n",
       " 'security',\n",
       " 'postgresql',\n",
       " 'css3',\n",
       " 'templates',\n",
       " 'twitter-bootstrap',\n",
       " 'shell',\n",
       " 'list',\n",
       " 'google-chrome',\n",
       " 'vim',\n",
       " 'oop',\n",
       " 'image',\n",
       " 'hibernate',\n",
       " 'gcc',\n",
       " 'asp.net-mvc-3',\n",
       " 'facebook',\n",
       " 'oracle',\n",
       " 'rest',\n",
       " 'maven',\n",
       " 'http',\n",
       " 'exception',\n",
       " 'tsql',\n",
       " 'math',\n",
       " 'numpy',\n",
       " 'svn',\n",
       " 'qt',\n",
       " 'ipad',\n",
       " 'function',\n",
       " 'datetime',\n",
       " 'wcf',\n",
       " 'emacs',\n",
       " 'design-patterns',\n",
       " 'github',\n",
       " 'class',\n",
       " 'api',\n",
       " 'optimization',\n",
       " 'swing']"
      ]
     },
     "execution_count": 29,
     "metadata": {},
     "output_type": "execute_result"
    }
   ],
   "source": [
    "tags_features"
   ]
  },
  {
   "cell_type": "code",
   "execution_count": 30,
   "metadata": {
    "_uuid": "e4a1cb0882531f0de6aef354e468cd0711bbb432"
   },
   "outputs": [
    {
     "data": {
      "image/png": "[encoded data removed]",
      "text/plain": [
       "<Figure size 1080x720 with 1 Axes>"
      ]
     },
     "metadata": {},
     "output_type": "display_data"
    }
   ],
   "source": [
    "fig, ax = plt.subplots(figsize=(15, 10))\n",
    "keywords.plot(100, cumulative=False)"
   ]
  },
  {
   "cell_type": "code",
   "execution_count": 31,
   "metadata": {
    "_uuid": "3dabce5e92dc9314e7042384add46fc2c31f3112"
   },
   "outputs": [],
   "source": [
    "def most_common(tags):\n",
    "    tags_filtered = []\n",
    "    for i in range(0, len(tags)):\n",
    "        if tags[i] in tags_features:\n",
    "            tags_filtered.append(tags[i])\n",
    "    return tags_filtered"
   ]
  },
  {
   "cell_type": "code",
   "execution_count": 32,
   "metadata": {
    "_uuid": "e1b1f8eefaf9b94b5bffdbd295b5770fae7b2984"
   },
   "outputs": [],
   "source": [
    "new_df['Tags'] = new_df['Tags'].apply(lambda x: most_common(x))\n",
    "new_df['Tags'] = new_df['Tags'].apply(lambda x: x if len(x)>0 else None)"
   ]
  },
  {
   "cell_type": "code",
   "execution_count": 33,
   "metadata": {
    "_uuid": "be6aae9b05c9d212cb26adb487df1476e6040c48"
   },
   "outputs": [
    {
     "data": {
      "text/plain": [
       "(72950, 3)"
      ]
     },
     "execution_count": 33,
     "metadata": {},
     "output_type": "execute_result"
    }
   ],
   "source": [
    "new_df.shape"
   ]
  },
  {
   "cell_type": "code",
   "execution_count": 34,
   "metadata": {
    "_uuid": "1f9ffd9e9e0dfe7c2e4c595e31559e2f5ec513f4"
   },
   "outputs": [],
   "source": [
    "new_df.dropna(subset=['Tags'], inplace=True)"
   ]
  },
  {
   "cell_type": "code",
   "execution_count": 35,
   "metadata": {
    "_uuid": "608e36814e0b2befb41bb9dc6eca073edf48fbe4"
   },
   "outputs": [
    {
     "data": {
      "text/plain": [
       "(63167, 3)"
      ]
     },
     "execution_count": 35,
     "metadata": {},
     "output_type": "execute_result"
    }
   ],
   "source": [
    "new_df.shape"
   ]
  },
  {
   "cell_type": "markdown",
   "metadata": {
    "_uuid": "8864db3bccbe04abb7656fa580fbbb87b0528c43"
   },
   "source": [
    "We are here loosing 10000 rows but the it's for the greater good. "
   ]
  },
  {
   "cell_type": "markdown",
   "metadata": {
    "_uuid": "0240dc179aeabfdd8bbd6638d0e1b3ae5cb56877"
   },
   "source": [
    "**1.2.2 Body**"
   ]
  },
  {
   "cell_type": "markdown",
   "metadata": {
    "_uuid": "598869f86fd4f9a6fe1e41f9acce43d392cb50aa"
   },
   "source": [
    "In the next two columns: Body and Title, I'll use lots of text processing:\n",
    "* Removing html format \n",
    "* Lowering text\n",
    "* Transforming abbreviations \n",
    "* Removing punctuation (but keeping words like c# since it's the most popular tag)\n",
    "* Lemmatizing words\n",
    "* Removing stop words"
   ]
  },
  {
   "cell_type": "code",
   "execution_count": 36,
   "metadata": {
    "_uuid": "e1b8ccc185a38ec08ee74deecd749b187053e444"
   },
   "outputs": [],
   "source": [
    "# Converting html to text in the body\n",
    "\n",
    "new_df['Body'] = new_df['Body'].apply(lambda x: BeautifulSoup(x).get_text()) "
   ]
  },
  {
   "cell_type": "code",
   "execution_count": 37,
   "metadata": {
    "_uuid": "b25cd0dd5fd7bc22eaa629bdabfa9ce882661f85"
   },
   "outputs": [],
   "source": [
    "def clean_text(text):\n",
    "    text = text.lower()\n",
    "    text = re.sub(r\"what's\", \"what is \", text)\n",
    "    text = re.sub(r\"\\'s\", \" \", text)\n",
    "    text = re.sub(r\"\\'ve\", \" have \", text)\n",
    "    text = re.sub(r\"can't\", \"can not \", text)\n",
    "    text = re.sub(r\"n't\", \" not \", text)\n",
    "    text = re.sub(r\"i'm\", \"i am \", text)\n",
    "    text = re.sub(r\"\\'re\", \" are \", text)\n",
    "    text = re.sub(r\"\\'d\", \" would \", text)\n",
    "    text = re.sub(r\"\\'ll\", \" will \", text)\n",
    "    text = re.sub(r\"\\'scuse\", \" excuse \", text)\n",
    "    text = re.sub(r\"\\'\\n\", \" \", text)\n",
    "    text = re.sub(r\"\\'\\xa0\", \" \", text)\n",
    "    text = re.sub('\\s+', ' ', text)\n",
    "    text = text.strip(' ')\n",
    "    return text"
   ]
  },
  {
   "cell_type": "code",
   "execution_count": 38,
   "metadata": {
    "_uuid": "d39a9d9c3221288d7d72076070219cb861ad399e"
   },
   "outputs": [],
   "source": [
    "new_df['Body'] = new_df['Body'].apply(lambda x: clean_text(x)) "
   ]
  },
  {
   "cell_type": "code",
   "execution_count": 39,
   "metadata": {
    "_uuid": "e2b3cfc4fbb0482324dc1937d8411feb5334f7d2"
   },
   "outputs": [],
   "source": [
    "token=ToktokTokenizer()"
   ]
  },
  {
   "cell_type": "code",
   "execution_count": 40,
   "metadata": {
    "_uuid": "e96435d0bb6d758f5868ae7cf1561e28293b21e0"
   },
   "outputs": [
    {
     "data": {
      "text/plain": [
       "'!\"#$%&\\'()*+,-./:;<=>?@[\\\\]^_`{|}~'"
      ]
     },
     "execution_count": 40,
     "metadata": {},
     "output_type": "execute_result"
    }
   ],
   "source": [
    "punctuation"
   ]
  },
  {
   "cell_type": "code",
   "execution_count": 41,
   "metadata": {
    "_uuid": "52c525eabf07b51a54af954f4adc7404febdf27e"
   },
   "outputs": [],
   "source": [
    "punct = '!\"#$%&\\'()*+,./:;<=>?@[\\\\]^_`{|}~'"
   ]
  },
  {
   "cell_type": "code",
   "execution_count": 42,
   "metadata": {
    "_uuid": "7681b82ec0d4e8fb87fc7c2a2d7e90f00184bdb7"
   },
   "outputs": [],
   "source": [
    "def strip_list_noempty(mylist):\n",
    "    newlist = (item.strip() if hasattr(item, 'strip') else item for item in mylist)\n",
    "    return [item for item in newlist if item != '']"
   ]
  },
  {
   "cell_type": "code",
   "execution_count": 43,
   "metadata": {
    "_uuid": "e8d4bb83559025f06a5bae00aa511f5985bb56bd"
   },
   "outputs": [],
   "source": [
    "def clean_punct(text): \n",
    "    words=token.tokenize(text)\n",
    "    punctuation_filtered = []\n",
    "    regex = re.compile('[%s]' % re.escape(punct))\n",
    "    remove_punctuation = str.maketrans(' ', ' ', punct)\n",
    "    for w in words:\n",
    "        if w in tags_features:\n",
    "            punctuation_filtered.append(w)\n",
    "        else:\n",
    "            punctuation_filtered.append(regex.sub('', w))\n",
    "  \n",
    "    filtered_list = strip_list_noempty(punctuation_filtered)\n",
    "        \n",
    "    return ' '.join(map(str, filtered_list))\n",
    "\n",
    "\n"
   ]
  },
  {
   "cell_type": "code",
   "execution_count": 44,
   "metadata": {
    "_uuid": "997064cd595544af307751a19ac0680a392a79a4"
   },
   "outputs": [],
   "source": [
    "new_df['Body'] = new_df['Body'].apply(lambda x: clean_punct(x)) "
   ]
  },
  {
   "cell_type": "code",
   "execution_count": 45,
   "metadata": {
    "_uuid": "c32de0e6fb753123485706a2655a68260de9741a"
   },
   "outputs": [
    {
     "data": {
      "text/plain": [
       "'has anyone got experience creating sql-based asp.net site-map providers i have got the default xml file websitemap working properly with my menu and sitemappath controls but i will need a way for the users of my site to create and modify pages dynamically i need to tie page viewing permissions into the standard asp.net membership system as well'"
      ]
     },
     "execution_count": 45,
     "metadata": {},
     "output_type": "execute_result"
    }
   ],
   "source": [
    "new_df['Body'][2]"
   ]
  },
  {
   "cell_type": "code",
   "execution_count": 46,
   "metadata": {
    "_uuid": "b18fd3ceb79801c3737758607e39ff6881dc1f0b"
   },
   "outputs": [],
   "source": [
    "lemma=WordNetLemmatizer()\n",
    "stop_words = set(stopwords.words(\"english\"))"
   ]
  },
  {
   "cell_type": "code",
   "execution_count": 47,
   "metadata": {
    "_uuid": "7adfb53ebffef9af3068171d4f4e8e7b4b959527"
   },
   "outputs": [],
   "source": [
    "def lemitizeWords(text):\n",
    "    words=token.tokenize(text)\n",
    "    listLemma=[]\n",
    "    for w in words:\n",
    "        x=lemma.lemmatize(w, pos=\"v\")\n",
    "        listLemma.append(x)\n",
    "    return ' '.join(map(str, listLemma))\n",
    "\n",
    "def stopWordsRemove(text):\n",
    "    \n",
    "    stop_words = set(stopwords.words(\"english\"))\n",
    "    \n",
    "    words=token.tokenize(text)\n",
    "    \n",
    "    filtered = [w for w in words if not w in stop_words]\n",
    "    \n",
    "    return ' '.join(map(str, filtered))"
   ]
  },
  {
   "cell_type": "code",
   "execution_count": 48,
   "metadata": {
    "_uuid": "32e75ae4b01dcafb295fceb59a1f973b1d5d4b86"
   },
   "outputs": [],
   "source": [
    "new_df['Body'] = new_df['Body'].apply(lambda x: lemitizeWords(x)) \n",
    "new_df['Body'] = new_df['Body'].apply(lambda x: stopWordsRemove(x)) "
   ]
  },
  {
   "cell_type": "markdown",
   "metadata": {
    "_uuid": "8ae7426282e33a923238b13dddf083700bfaa360"
   },
   "source": [
    "**1.2.3 Title**"
   ]
  },
  {
   "cell_type": "code",
   "execution_count": 49,
   "metadata": {
    "_uuid": "5151ce53b67e2a7a94565e28171d4dded9f3c390"
   },
   "outputs": [],
   "source": [
    "new_df['Title'] = new_df['Title'].apply(lambda x: str(x))\n",
    "new_df['Title'] = new_df['Title'].apply(lambda x: clean_text(x)) \n",
    "new_df['Title'] = new_df['Title'].apply(lambda x: clean_punct(x)) \n",
    "new_df['Title'] = new_df['Title'].apply(lambda x: lemitizeWords(x)) \n",
    "new_df['Title'] = new_df['Title'].apply(lambda x: stopWordsRemove(x)) "
   ]
  },
  {
   "cell_type": "markdown",
   "metadata": {
    "_uuid": "fe90f28a386d20375d1ec8c40dec91684802142e"
   },
   "source": [
    "**1.3 EDA**"
   ]
  },
  {
   "cell_type": "markdown",
   "metadata": {
    "_uuid": "7103674c5e35809eb0b89c0fa86bdb1ec2f76af9"
   },
   "source": [
    "Here I'll just use some LDA to see if shows any paterns in words and the main topics.  "
   ]
  },
  {
   "cell_type": "code",
   "execution_count": 50,
   "metadata": {
    "_uuid": "14aee1be48cf9da95ba0b6f4425ba99a13713d40"
   },
   "outputs": [],
   "source": [
    "no_topics = 20"
   ]
  },
  {
   "cell_type": "code",
   "execution_count": 51,
   "metadata": {
    "_uuid": "bdba110b6091d86d5af652c2c54caf688690e82f"
   },
   "outputs": [],
   "source": [
    "text = new_df['Body']"
   ]
  },
  {
   "cell_type": "code",
   "execution_count": 52,
   "metadata": {
    "_uuid": "42b4c014172c9e2b55705d5e80f7e0a0d5d0424f"
   },
   "outputs": [],
   "source": [
    "vectorizer_train = TfidfVectorizer(analyzer = 'word',\n",
    "                                       min_df=0.0,\n",
    "                                       max_df = 1.0,\n",
    "                                       strip_accents = None,\n",
    "                                       encoding = 'utf-8', \n",
    "                                       preprocessor=None,\n",
    "                                       token_pattern=r\"(?u)\\S\\S+\", # Need to repeat token pattern\n",
    "                                       max_features=1000)"
   ]
  },
  {
   "cell_type": "code",
   "execution_count": 53,
   "metadata": {
    "_uuid": "70c71f3bd686f989e504d8574b645b3bc3026e84"
   },
   "outputs": [],
   "source": [
    "TF_IDF_matrix = vectorizer_train.fit_transform(text)"
   ]
  },
  {
   "cell_type": "code",
   "execution_count": 54,
   "metadata": {
    "_uuid": "6f8c7f50bea68a8b3878bdf91da12d87434863de"
   },
   "outputs": [],
   "source": [
    "lda = LatentDirichletAllocation(n_topics=no_topics, max_iter=5, learning_method='online', learning_offset=50,random_state=11).fit(TF_IDF_matrix)"
   ]
  },
  {
   "cell_type": "code",
   "execution_count": 55,
   "metadata": {
    "_uuid": "07526c92eb492e38f47d9d1bddeedbfdb36a25a9"
   },
   "outputs": [
    {
     "name": "stdout",
     "output_type": "stream",
     "text": [
      "--------------------------------------------\n",
      "Topic 0:\n",
      "div function var html script class page jquery id input\n",
      "--------------------------------------------\n",
      "--------------------------------------------\n",
      "Topic 1:\n",
      "use app ios would find xcode like know android application\n",
      "--------------------------------------------\n",
      "--------------------------------------------\n",
      "Topic 2:\n",
      "00 scala font 09 01 02 tab utf-8 socket constant\n",
      "--------------------------------------------\n",
      "--------------------------------------------\n",
      "Topic 3:\n",
      "array list number data value would use like way function\n",
      "--------------------------------------------\n",
      "--------------------------------------------\n",
      "Topic 4:\n",
      "android width color height div background scroll style image top\n",
      "--------------------------------------------\n",
      "--------------------------------------------\n",
      "Topic 5:\n",
      "import python module modules def random filter statement docs 22\n",
      "--------------------------------------------\n",
      "--------------------------------------------\n",
      "Topic 6:\n",
      "button view android activity app event click menu item screen\n",
      "--------------------------------------------\n",
      "--------------------------------------------\n",
      "Topic 7:\n",
      "date datetime format 17 echo 00 time 15 convert year\n",
      "--------------------------------------------\n",
      "--------------------------------------------\n",
      "Topic 8:\n",
      "int public class return string void std type new foo\n",
      "--------------------------------------------\n",
      "--------------------------------------------\n",
      "Topic 9:\n",
      "file project error run use build command try install version\n",
      "--------------------------------------------\n",
      "--------------------------------------------\n",
      "Topic 10:\n",
      "table select query row column sql database id key value\n",
      "--------------------------------------------\n",
      "--------------------------------------------\n",
      "Topic 11:\n",
      "image json td tr cell label selector picture table img\n",
      "--------------------------------------------\n",
      "--------------------------------------------\n",
      "Topic 12:\n",
      "request server use error user file get url send connection\n",
      "--------------------------------------------\n",
      "--------------------------------------------\n",
      "Topic 13:\n",
      "rail gem ruby 12 11 14 pdf 13 10 18\n",
      "--------------------------------------------\n",
      "--------------------------------------------\n",
      "Topic 14:\n",
      "124 string character line match node text file regex print\n",
      "--------------------------------------------\n",
      "--------------------------------------------\n",
      "Topic 15:\n",
      "git branch commit push repository merge github master remote pull\n",
      "--------------------------------------------\n",
      "--------------------------------------------\n",
      "Topic 16:\n",
      "controller class model view use name public property get object\n",
      "--------------------------------------------\n",
      "--------------------------------------------\n",
      "Topic 17:\n",
      "thread exception catch queue throw lock bitmap child wait exit\n",
      "--------------------------------------------\n",
      "--------------------------------------------\n",
      "Topic 18:\n",
      "nsstring nil animate animation self dictionary cursor yes hide iphone\n",
      "--------------------------------------------\n",
      "--------------------------------------------\n",
      "Topic 19:\n",
      "use would function memory code like question test time one\n",
      "--------------------------------------------\n"
     ]
    }
   ],
   "source": [
    "def display_topics(model, feature_names, no_top_words):\n",
    "    for topic_idx, topic in enumerate(model.components_):\n",
    "        print(\"--------------------------------------------\")\n",
    "        print(\"Topic %d:\" % (topic_idx))\n",
    "        print(\" \".join([feature_names[i]\n",
    "                        for i in topic.argsort()[:-no_top_words - 1:-1]]))\n",
    "        print(\"--------------------------------------------\")\n",
    "        \n",
    "\n",
    "no_top_words = 10\n",
    "display_topics(lda, vectorizer_train.get_feature_names(), no_top_words)"
   ]
  },
  {
   "cell_type": "markdown",
   "metadata": {
    "_uuid": "709f989864c43312c2a3606583be434572b75e40"
   },
   "source": [
    "It's a bit disappointing but I'm certain that it can be done better. "
   ]
  },
  {
   "cell_type": "markdown",
   "metadata": {
    "_uuid": "119c8c35293cccd9627b58544acaaf06b4cb32d2"
   },
   "source": [
    "**PART 2: Classical classifiers**"
   ]
  },
  {
   "cell_type": "markdown",
   "metadata": {
    "_uuid": "4d7d89ca6323645d6bf722bd572852edc2b9571c"
   },
   "source": [
    "**2.1 Data preparation**"
   ]
  },
  {
   "cell_type": "markdown",
   "metadata": {
    "_uuid": "ccbc4065cdf68e9ef58fcad2889fc7454372425a"
   },
   "source": [
    "Now our data is almost ready to be put into a classifier. I just need to:\n",
    "* Binarize the tags\n",
    "* Use a TFIDF for body and Title\n",
    "The parameters in the TFIDF are very important for the performance of our tags since we don't want him to delete words like c# or.net. To do that we need to use the following pattern : token_pattern=r\"(?u)\\S\\S+\""
   ]
  },
  {
   "cell_type": "code",
   "execution_count": 56,
   "metadata": {
    "_uuid": "8640de349b18ea297f15c3d3eed3836d3ed19e14"
   },
   "outputs": [],
   "source": [
    "X1 = new_df['Body']\n",
    "X2 = new_df['Title']\n",
    "y = new_df['Tags']"
   ]
  },
  {
   "cell_type": "code",
   "execution_count": 57,
   "metadata": {
    "_uuid": "a4669f647cb5a147710294f1116ac4e2f29f50d7"
   },
   "outputs": [],
   "source": [
    "multilabel_binarizer = MultiLabelBinarizer()\n",
    "y_bin = multilabel_binarizer.fit_transform(y)"
   ]
  },
  {
   "cell_type": "code",
   "execution_count": 58,
   "metadata": {
    "_uuid": "e8fd01469710da8a69fc45de00d37901d570814a"
   },
   "outputs": [],
   "source": [
    "vectorizer_X1 = TfidfVectorizer(analyzer = 'word',\n",
    "                                       min_df=0.0,\n",
    "                                       max_df = 1.0,\n",
    "                                       strip_accents = None,\n",
    "                                       encoding = 'utf-8', \n",
    "                                       preprocessor=None,\n",
    "                                       token_pattern=r\"(?u)\\S\\S+\",\n",
    "                                       max_features=1000)\n",
    "\n",
    "vectorizer_X2 = TfidfVectorizer(analyzer = 'word',\n",
    "                                       min_df=0.0,\n",
    "                                       max_df = 1.0,\n",
    "                                       strip_accents = None,\n",
    "                                       encoding = 'utf-8', \n",
    "                                       preprocessor=None,\n",
    "                                       token_pattern=r\"(?u)\\S\\S+\",\n",
    "                                       max_features=1000)"
   ]
  },
  {
   "cell_type": "code",
   "execution_count": 59,
   "metadata": {
    "_uuid": "2fa0c121a6510f161df99e7fd882534214a8e380"
   },
   "outputs": [],
   "source": [
    "X1_tfidf = vectorizer_X1.fit_transform(X1)\n",
    "X2_tfidf = vectorizer_X2.fit_transform(X2)"
   ]
  },
  {
   "cell_type": "code",
   "execution_count": 60,
   "metadata": {
    "_uuid": "d241fca148de1384e5323d2b194feb52727d14e1"
   },
   "outputs": [],
   "source": [
    "X_tfidf = hstack([X1_tfidf,X2_tfidf])"
   ]
  },
  {
   "cell_type": "code",
   "execution_count": 61,
   "metadata": {
    "_uuid": "1219d6cdc1f1d27c90910659f1be21a917f9288e"
   },
   "outputs": [],
   "source": [
    "X_train, X_test, y_train, y_test = train_test_split(X_tfidf, y_bin, test_size = 0.2, random_state = 0) # Do 80/20 split"
   ]
  },
  {
   "cell_type": "markdown",
   "metadata": {
    "_uuid": "d9ba6707c5aef3d55a7a5a8d33182c87d83af703"
   },
   "source": [
    "Now it's finally ready. "
   ]
  },
  {
   "cell_type": "markdown",
   "metadata": {
    "_uuid": "6755c0843211713e0b4bf90cb4618cfdaa9fef85"
   },
   "source": [
    "**2.2 One vs Rest**"
   ]
  },
  {
   "cell_type": "markdown",
   "metadata": {
    "_uuid": "c4448315a460e141e1c8b079b809c1040e4fc050"
   },
   "source": [
    "To evaluate our models, I'll use the jacard score since it's the best fitted for multi label classification. "
   ]
  },
  {
   "cell_type": "code",
   "execution_count": 62,
   "metadata": {
    "_kg_hide-input": true,
    "_uuid": "03e10593770e8b27cb2a9574efcc9cd8b6dabbd6"
   },
   "outputs": [],
   "source": [
    "def avg_jacard(y_true,y_pred):\n",
    "    '''\n",
    "    see https://en.wikipedia.org/wiki/Multi-label_classification#Statistics_and_evaluation_metrics\n",
    "    '''\n",
    "    jacard = np.minimum(y_true,y_pred).sum(axis=1) / np.maximum(y_true,y_pred).sum(axis=1)\n",
    "    \n",
    "    return jacard.mean()*100\n",
    "\n",
    "def print_score(y_pred, clf):\n",
    "    print(\"Clf: \", clf.__class__.__name__)\n",
    "    print(\"Jacard score: {}\".format(avg_jacard(y_test, y_pred)))\n",
    "    print(\"Hamming loss: {}\".format(hamming_loss(y_pred, y_test)*100))\n",
    "    print(\"---\")    "
   ]
  },
  {
   "cell_type": "code",
   "execution_count": 63,
   "metadata": {
    "_kg_hide-input": true,
    "_uuid": "6fb3326bc2c812cd991ca969762e54190b548150"
   },
   "outputs": [
    {
     "name": "stdout",
     "output_type": "stream",
     "text": [
      "Clf:  DummyClassifier\n",
      "Jacard score: 2.5994136507433954\n",
      "Hamming loss: 3.00411587779009\n",
      "---\n",
      "Clf:  SGDClassifier\n",
      "Jacard score: 47.87016516278824\n",
      "Hamming loss: 0.9537755263574482\n",
      "---\n",
      "Clf:  LogisticRegression\n",
      "Jacard score: 48.3590575695214\n",
      "Hamming loss: 0.9707139464935887\n",
      "---\n",
      "Clf:  MultinomialNB\n",
      "Jacard score: 40.30181219234568\n",
      "Hamming loss: 1.1750039575747981\n",
      "---\n",
      "Clf:  LinearSVC\n",
      "Jacard score: 52.356208115666725\n",
      "Hamming loss: 0.9552794047807505\n",
      "---\n",
      "Clf:  Perceptron\n",
      "Jacard score: 46.40045380191019\n",
      "Hamming loss: 1.450292860535064\n",
      "---\n",
      "Clf:  PassiveAggressiveClassifier\n",
      "Jacard score: 50.429641858326356\n",
      "Hamming loss: 1.1897261358239672\n",
      "---\n"
     ]
    }
   ],
   "source": [
    "dummy = DummyClassifier()\n",
    "sgd = SGDClassifier()\n",
    "lr = LogisticRegression()\n",
    "mn = MultinomialNB()\n",
    "svc = LinearSVC()\n",
    "perceptron = Perceptron()\n",
    "pac = PassiveAggressiveClassifier()\n",
    "\n",
    "for classifier in [dummy, sgd, lr, mn, svc, perceptron, pac]:\n",
    "    clf = OneVsRestClassifier(classifier)\n",
    "    clf.fit(X_train, y_train)\n",
    "    y_pred = clf.predict(X_test)\n",
    "    print_score(y_pred, classifier)"
   ]
  },
  {
   "cell_type": "markdown",
   "metadata": {
    "_uuid": "7615d72e56406afe2d981b72b0b69ceff34aca91"
   },
   "source": [
    "**2.3 MLP Classifier**"
   ]
  },
  {
   "cell_type": "code",
   "execution_count": 64,
   "metadata": {
    "_kg_hide-input": true,
    "_uuid": "43560fbdf7c0232998cbb9ff303b257fae491eab"
   },
   "outputs": [
    {
     "name": "stdout",
     "output_type": "stream",
     "text": [
      "Clf:  MLPClassifier\n",
      "Jacard score: 48.16590907377673\n",
      "Hamming loss: 1.3451796738958366\n",
      "---\n"
     ]
    }
   ],
   "source": [
    "mlpc = MLPClassifier()\n",
    "mlpc.fit(X_train, y_train)\n",
    "\n",
    "y_pred = mlpc.predict(X_test)\n",
    "\n",
    "print_score(y_pred, mlpc)"
   ]
  },
  {
   "cell_type": "markdown",
   "metadata": {
    "_uuid": "4bbd3c1f3db69cfa7d59e9bb77a89e1ee21620b9"
   },
   "source": [
    "**2.4 Random Forest**"
   ]
  },
  {
   "cell_type": "code",
   "execution_count": 65,
   "metadata": {
    "_kg_hide-input": true,
    "_uuid": "237dd4c165fc9433a1d146a2ba16bd7c085d90c5"
   },
   "outputs": [
    {
     "name": "stdout",
     "output_type": "stream",
     "text": [
      "Clf:  RandomForestClassifier\n",
      "Jacard score: 42.38826447153185\n",
      "Hamming loss: 1.06213392433117\n",
      "---\n"
     ]
    }
   ],
   "source": [
    "rfc = RandomForestClassifier()\n",
    "rfc.fit(X_train, y_train)\n",
    "\n",
    "y_pred = rfc.predict(X_test)\n",
    "\n",
    "print_score(y_pred, rfc)"
   ]
  },
  {
   "cell_type": "markdown",
   "metadata": {
    "_uuid": "b565bd1188ff3a760d2c687052bcbdd730661c25"
   },
   "source": [
    "**2.5 GridSearch CV on the best classifier **"
   ]
  },
  {
   "cell_type": "code",
   "execution_count": 66,
   "metadata": {
    "_uuid": "8296f35a8035826033f78093a6d6826ceeaf6bb3"
   },
   "outputs": [],
   "source": [
    "param_grid = {'estimator__C':[1,10,100,1000]\n",
    "              }"
   ]
  },
  {
   "cell_type": "code",
   "execution_count": 67,
   "metadata": {
    "_kg_hide-output": true,
    "_uuid": "1bbe3e12fa2b1e55af3030d57a7212d46c6156e4"
   },
   "outputs": [
    {
     "name": "stdout",
     "output_type": "stream",
     "text": [
      "Fitting 5 folds for each of 4 candidates, totalling 20 fits\n",
      "[CV] estimator__C=1 ..................................................\n"
     ]
    },
    {
     "name": "stderr",
     "output_type": "stream",
     "text": [
      "[Parallel(n_jobs=1)]: Using backend SequentialBackend with 1 concurrent workers.\n"
     ]
    },
    {
     "name": "stdout",
     "output_type": "stream",
     "text": [
      "[CV] .......... estimator__C=1, score=52.33520379557779, total=  12.2s\n",
      "[CV] estimator__C=1 ..................................................\n"
     ]
    },
    {
     "name": "stderr",
     "output_type": "stream",
     "text": [
      "[Parallel(n_jobs=1)]: Done   1 out of   1 | elapsed:   12.5s remaining:    0.0s\n"
     ]
    },
    {
     "name": "stdout",
     "output_type": "stream",
     "text": [
      "[CV] ......... estimator__C=1, score=52.115459818042176, total=  13.4s\n",
      "[CV] estimator__C=1 ..................................................\n"
     ]
    },
    {
     "name": "stderr",
     "output_type": "stream",
     "text": [
      "[Parallel(n_jobs=1)]: Done   2 out of   2 | elapsed:   26.2s remaining:    0.0s\n"
     ]
    },
    {
     "name": "stdout",
     "output_type": "stream",
     "text": [
      "[CV] .......... estimator__C=1, score=51.20724910128294, total=  12.3s\n",
      "[CV] estimator__C=1 ..................................................\n"
     ]
    },
    {
     "name": "stderr",
     "output_type": "stream",
     "text": [
      "[Parallel(n_jobs=1)]: Done   3 out of   3 | elapsed:   38.8s remaining:    0.0s\n"
     ]
    },
    {
     "name": "stdout",
     "output_type": "stream",
     "text": [
      "[CV] .......... estimator__C=1, score=50.96741209842338, total=  12.0s\n",
      "[CV] estimator__C=1 ..................................................\n"
     ]
    },
    {
     "name": "stderr",
     "output_type": "stream",
     "text": [
      "[Parallel(n_jobs=1)]: Done   4 out of   4 | elapsed:   51.1s remaining:    0.0s\n"
     ]
    },
    {
     "name": "stdout",
     "output_type": "stream",
     "text": [
      "[CV] ........... estimator__C=1, score=51.5457813839963, total=  12.3s\n",
      "[CV] estimator__C=10 .................................................\n"
     ]
    },
    {
     "name": "stderr",
     "output_type": "stream",
     "text": [
      "[Parallel(n_jobs=1)]: Done   5 out of   5 | elapsed:  1.1min remaining:    0.0s\n"
     ]
    },
    {
     "name": "stdout",
     "output_type": "stream",
     "text": [
      "[CV] ......... estimator__C=10, score=48.65793156087012, total=  38.7s\n",
      "[CV] estimator__C=10 .................................................\n"
     ]
    },
    {
     "name": "stderr",
     "output_type": "stream",
     "text": [
      "[Parallel(n_jobs=1)]: Done   6 out of   6 | elapsed:  1.7min remaining:    0.0s\n"
     ]
    },
    {
     "name": "stdout",
     "output_type": "stream",
     "text": [
      "[CV] ........ estimator__C=10, score=48.318609921459434, total=  39.3s\n",
      "[CV] estimator__C=10 .................................................\n"
     ]
    },
    {
     "name": "stderr",
     "output_type": "stream",
     "text": [
      "[Parallel(n_jobs=1)]: Done   7 out of   7 | elapsed:  2.4min remaining:    0.0s\n"
     ]
    },
    {
     "name": "stdout",
     "output_type": "stream",
     "text": [
      "[CV] ........ estimator__C=10, score=47.885458922858746, total=  40.3s\n",
      "[CV] estimator__C=10 .................................................\n"
     ]
    },
    {
     "name": "stderr",
     "output_type": "stream",
     "text": [
      "[Parallel(n_jobs=1)]: Done   8 out of   8 | elapsed:  3.0min remaining:    0.0s\n"
     ]
    },
    {
     "name": "stdout",
     "output_type": "stream",
     "text": [
      "[CV] .......... estimator__C=10, score=46.9340467237756, total=  39.9s\n",
      "[CV] estimator__C=10 .................................................\n"
     ]
    },
    {
     "name": "stderr",
     "output_type": "stream",
     "text": [
      "[Parallel(n_jobs=1)]: Done   9 out of   9 | elapsed:  3.7min remaining:    0.0s\n"
     ]
    },
    {
     "name": "stdout",
     "output_type": "stream",
     "text": [
      "[CV] ........ estimator__C=10, score=47.594427638460886, total=  40.5s\n",
      "[CV] estimator__C=100 ................................................\n",
      "[CV] ....... estimator__C=100, score=44.844391204587104, total=  59.8s\n",
      "[CV] estimator__C=100 ................................................\n",
      "[CV] ....... estimator__C=100, score=44.360206897309894, total= 1.0min\n",
      "[CV] estimator__C=100 ................................................\n",
      "[CV] ........ estimator__C=100, score=44.04368495196634, total=  59.6s\n",
      "[CV] estimator__C=100 ................................................\n",
      "[CV] ........ estimator__C=100, score=43.46407838813341, total=  59.8s\n",
      "[CV] estimator__C=100 ................................................\n",
      "[CV] ........ estimator__C=100, score=44.43610035214032, total= 1.0min\n",
      "[CV] estimator__C=1000 ...............................................\n",
      "[CV] ....... estimator__C=1000, score=42.80365957273051, total= 1.1min\n",
      "[CV] estimator__C=1000 ...............................................\n",
      "[CV] ....... estimator__C=1000, score=41.55679896107323, total= 1.1min\n",
      "[CV] estimator__C=1000 ...............................................\n",
      "[CV] ....... estimator__C=1000, score=41.95354940234727, total= 1.1min\n",
      "[CV] estimator__C=1000 ...............................................\n",
      "[CV] ....... estimator__C=1000, score=42.14324587939272, total= 1.1min\n",
      "[CV] estimator__C=1000 ...............................................\n",
      "[CV] ....... estimator__C=1000, score=42.91258296972724, total= 1.1min\n"
     ]
    },
    {
     "name": "stderr",
     "output_type": "stream",
     "text": [
      "[Parallel(n_jobs=1)]: Done  20 out of  20 | elapsed: 15.0min finished\n"
     ]
    },
    {
     "data": {
      "text/plain": [
       "GridSearchCV(cv=5, error_score='raise-deprecating',\n",
       "       estimator=OneVsRestClassifier(estimator=LinearSVC(C=1.0, class_weight=None, dual=True, fit_intercept=True,\n",
       "     intercept_scaling=1, loss='squared_hinge', max_iter=1000,\n",
       "     multi_class='ovr', penalty='l2', random_state=None, tol=0.0001,\n",
       "     verbose=0),\n",
       "          n_jobs=None),\n",
       "       fit_params=None, iid='warn', n_jobs=None,\n",
       "       param_grid={'estimator__C': [1, 10, 100, 1000]},\n",
       "       pre_dispatch='2*n_jobs', refit=True, return_train_score='warn',\n",
       "       scoring=make_scorer(avg_jacard), verbose=10)"
      ]
     },
     "execution_count": 67,
     "metadata": {},
     "output_type": "execute_result"
    }
   ],
   "source": [
    "svc = OneVsRestClassifier(LinearSVC())\n",
    "CV_svc = model_selection.GridSearchCV(estimator=svc, param_grid=param_grid, cv= 5, verbose=10, scoring=make_scorer(avg_jacard,greater_is_better=True))\n",
    "CV_svc.fit(X_train, y_train)"
   ]
  },
  {
   "cell_type": "code",
   "execution_count": 68,
   "metadata": {
    "_uuid": "e192adaeaf60e362ee8cf71c3e2439aa15067576"
   },
   "outputs": [
    {
     "data": {
      "text/plain": [
       "{'estimator__C': 1}"
      ]
     },
     "execution_count": 68,
     "metadata": {},
     "output_type": "execute_result"
    }
   ],
   "source": [
    "CV_svc.best_params_"
   ]
  },
  {
   "cell_type": "code",
   "execution_count": 69,
   "metadata": {
    "_uuid": "20290a9fdc51cf5155dd062462c7910fd6fe8b6e"
   },
   "outputs": [],
   "source": [
    "best_model = CV_svc.best_estimator_"
   ]
  },
  {
   "cell_type": "code",
   "execution_count": 70,
   "metadata": {
    "_uuid": "2029b6994027cd3bba479ccf3c155a8b77ec17df"
   },
   "outputs": [
    {
     "name": "stdout",
     "output_type": "stream",
     "text": [
      "Clf:  OneVsRestClassifier\n",
      "Jacard score: 52.356208115666725\n",
      "Hamming loss: 0.9552794047807505\n",
      "---\n"
     ]
    }
   ],
   "source": [
    "y_pred = best_model.predict(X_test)\n",
    "\n",
    "print_score(y_pred, best_model)"
   ]
  },
  {
   "cell_type": "markdown",
   "metadata": {
    "_uuid": "c14aca676e8fe5e65beba7b40ce7d6295e8a4242"
   },
   "source": [
    "**2.6 Confusion matrix**"
   ]
  },
  {
   "cell_type": "code",
   "execution_count": 71,
   "metadata": {
    "_kg_hide-output": true,
    "_uuid": "444d6f85d6c9c121c3ecf4654cb7a37e21974321"
   },
   "outputs": [
    {
     "name": "stdout",
     "output_type": "stream",
     "text": [
      ".net\n",
      "[[12033    54]\n",
      " [  447   100]]\n",
      "\n",
      "ajax\n",
      "[[12526    15]\n",
      " [   55    38]]\n",
      "\n",
      "algorithm\n",
      "[[12445    21]\n",
      " [   87    81]]\n",
      "\n",
      "android\n",
      "[[11528    40]\n",
      " [  194   872]]\n",
      "\n",
      "angularjs\n",
      "[[12443     7]\n",
      " [   49   135]]\n",
      "\n",
      "api\n",
      "[[12567    14]\n",
      " [   45     8]]\n",
      "\n",
      "arrays\n",
      "[[12405    55]\n",
      " [  103    71]]\n",
      "\n",
      "asp.net\n",
      "[[12346    30]\n",
      " [  166    92]]\n",
      "\n",
      "asp.net-mvc\n",
      "[[12402    41]\n",
      " [   99    92]]\n",
      "\n",
      "asp.net-mvc-3\n",
      "[[12566    11]\n",
      " [   44    13]]\n",
      "\n",
      "bash\n",
      "[[12520     7]\n",
      " [   46    61]]\n",
      "\n",
      "c\n",
      "[[12220    58]\n",
      " [  203   153]]\n",
      "\n",
      "c#\n",
      "[[11060   175]\n",
      " [  618   781]]\n",
      "\n",
      "c++\n",
      "[[11674    91]\n",
      " [  260   609]]\n",
      "\n",
      "c++11\n",
      "[[12453    31]\n",
      " [  103    47]]\n",
      "\n",
      "class\n",
      "[[12574    12]\n",
      " [   45     3]]\n",
      "\n",
      "cocoa\n",
      "[[12553     4]\n",
      " [   69     8]]\n",
      "\n",
      "cocoa-touch\n",
      "[[12530    10]\n",
      " [   90     4]]\n",
      "\n",
      "css\n",
      "[[12186    74]\n",
      " [  123   251]]\n",
      "\n",
      "css3\n",
      "[[12561    13]\n",
      " [   45    15]]\n",
      "\n",
      "database\n",
      "[[12503    29]\n",
      " [   84    18]]\n",
      "\n",
      "datetime\n",
      "[[12571    17]\n",
      " [   36    10]]\n",
      "\n",
      "debugging\n",
      "[[12523    27]\n",
      " [   50    34]]\n",
      "\n",
      "delphi\n",
      "[[12542     2]\n",
      " [   39    51]]\n",
      "\n",
      "design-patterns\n",
      "[[12573    11]\n",
      " [   36    14]]\n",
      "\n",
      "django\n",
      "[[12465     7]\n",
      " [   31   131]]\n",
      "\n",
      "eclipse\n",
      "[[12472     9]\n",
      " [   55    98]]\n",
      "\n",
      "emacs\n",
      "[[12591     1]\n",
      " [   16    26]]\n",
      "\n",
      "entity-framework\n",
      "[[12547    20]\n",
      " [   36    31]]\n",
      "\n",
      "exception\n",
      "[[12551    17]\n",
      " [   43    23]]\n",
      "\n",
      "facebook\n",
      "[[12571     9]\n",
      " [   17    37]]\n",
      "\n",
      "function\n",
      "[[12576    11]\n",
      " [   44     3]]\n",
      "\n",
      "gcc\n",
      "[[12566    12]\n",
      " [   35    21]]\n",
      "\n",
      "generics\n",
      "[[12558     9]\n",
      " [   31    36]]\n",
      "\n",
      "git\n",
      "[[12425     8]\n",
      " [   17   184]]\n",
      "\n",
      "github\n",
      "[[12575     5]\n",
      " [   23    31]]\n",
      "\n",
      "google-chrome\n",
      "[[12559     8]\n",
      " [   33    34]]\n",
      "\n",
      "haskell\n",
      "[[12497     5]\n",
      " [   70    62]]\n",
      "\n",
      "hibernate\n",
      "[[12570     5]\n",
      " [   16    43]]\n",
      "\n",
      "html\n",
      "[[12109   102]\n",
      " [  261   162]]\n",
      "\n",
      "html5\n",
      "[[12506     7]\n",
      " [   77    44]]\n",
      "\n",
      "http\n",
      "[[12563    14]\n",
      " [   41    16]]\n",
      "\n",
      "image\n",
      "[[12561    15]\n",
      " [   50     8]]\n",
      "\n",
      "ios\n",
      "[[12001    93]\n",
      " [  283   257]]\n",
      "\n",
      "ipad\n",
      "[[12573     2]\n",
      " [   42    17]]\n",
      "\n",
      "iphone\n",
      "[[12227    49]\n",
      " [  246   112]]\n",
      "\n",
      "java\n",
      "[[11130   144]\n",
      " [  565   795]]\n",
      "\n",
      "javascript\n",
      "[[11338   168]\n",
      " [  511   617]]\n",
      "\n",
      "jquery\n",
      "[[12011    65]\n",
      " [  199   359]]\n",
      "\n",
      "json\n",
      "[[12474    24]\n",
      " [   65    71]]\n",
      "\n",
      "linq\n",
      "[[12536    14]\n",
      " [   37    47]]\n",
      "\n",
      "linux\n",
      "[[12420    27]\n",
      " [  121    66]]\n",
      "\n",
      "list\n",
      "[[12540    19]\n",
      " [   61    14]]\n",
      "\n",
      "math\n",
      "[[12577    10]\n",
      " [   46     1]]\n",
      "\n",
      "maven\n",
      "[[12563    15]\n",
      " [   15    41]]\n",
      "\n",
      "mongodb\n",
      "[[12569     1]\n",
      " [   33    31]]\n",
      "\n",
      "multithreading\n",
      "[[12468    25]\n",
      " [   85    56]]\n",
      "\n",
      "mysql\n",
      "[[12363    32]\n",
      " [   74   165]]\n",
      "\n",
      "node.js\n",
      "[[12446    13]\n",
      " [   71   104]]\n",
      "\n",
      "numpy\n",
      "[[12579     4]\n",
      " [   26    25]]\n",
      "\n",
      "objective-c\n",
      "[[12199    81]\n",
      " [  249   105]]\n",
      "\n",
      "oop\n",
      "[[12573     5]\n",
      " [   56     0]]\n",
      "\n",
      "optimization\n",
      "[[12584     4]\n",
      " [   46     0]]\n",
      "\n",
      "oracle\n",
      "[[12576     3]\n",
      " [   25    30]]\n",
      "\n",
      "osx\n",
      "[[12493    15]\n",
      " [   88    38]]\n",
      "\n",
      "performance\n",
      "[[12437    29]\n",
      " [  133    35]]\n",
      "\n",
      "perl\n",
      "[[12563     0]\n",
      " [   27    44]]\n",
      "\n",
      "php\n",
      "[[12001    38]\n",
      " [  218   377]]\n",
      "\n",
      "postgresql\n",
      "[[12572     0]\n",
      " [   29    33]]\n",
      "\n",
      "python\n",
      "[[11715    51]\n",
      " [  240   628]]\n",
      "\n",
      "qt\n",
      "[[12585     2]\n",
      " [   24    23]]\n",
      "\n",
      "r\n",
      "[[12384    31]\n",
      " [   97   122]]\n",
      "\n",
      "regex\n",
      "[[12499    10]\n",
      " [   41    84]]\n",
      "\n",
      "rest\n",
      "[[12565     9]\n",
      " [   30    30]]\n",
      "\n",
      "ruby\n",
      "[[12311    36]\n",
      " [  158   129]]\n",
      "\n",
      "ruby-on-rails\n",
      "[[12304    41]\n",
      " [  105   184]]\n",
      "\n",
      "ruby-on-rails-3\n",
      "[[12526    21]\n",
      " [   75    12]]\n",
      "\n",
      "scala\n",
      "[[12488     7]\n",
      " [   36   103]]\n",
      "\n",
      "security\n",
      "[[12564     9]\n",
      " [   44    17]]\n",
      "\n",
      "shell\n",
      "[[12554    13]\n",
      " [   43    24]]\n",
      "\n",
      "spring\n",
      "[[12516    15]\n",
      " [   35    68]]\n",
      "\n",
      "sql\n",
      "[[12269    70]\n",
      " [  158   137]]\n",
      "\n",
      "sql-server\n",
      "[[12390    50]\n",
      " [   98    96]]\n",
      "\n",
      "string\n",
      "[[12432    54]\n",
      " [   93    55]]\n",
      "\n",
      "svn\n",
      "[[12586     6]\n",
      " [   12    30]]\n",
      "\n",
      "swift\n",
      "[[12521     5]\n",
      " [   35    73]]\n",
      "\n",
      "swing\n",
      "[[12582     2]\n",
      " [   28    22]]\n",
      "\n",
      "templates\n",
      "[[12542    13]\n",
      " [   44    35]]\n",
      "\n",
      "tsql\n",
      "[[12562    16]\n",
      " [   52     4]]\n",
      "\n",
      "twitter-bootstrap\n",
      "[[12565     2]\n",
      " [   21    46]]\n",
      "\n",
      "unit-testing\n",
      "[[12478    28]\n",
      " [   70    58]]\n",
      "\n",
      "vim\n",
      "[[12571     2]\n",
      " [   15    46]]\n",
      "\n",
      "visual-studio\n",
      "[[12497    29]\n",
      " [   72    36]]\n",
      "\n",
      "visual-studio-2010\n",
      "[[12542    17]\n",
      " [   52    23]]\n",
      "\n",
      "wcf\n",
      "[[12583     0]\n",
      " [   12    39]]\n",
      "\n",
      "windows\n",
      "[[12454    30]\n",
      " [  112    38]]\n",
      "\n",
      "winforms\n",
      "[[12556    14]\n",
      " [   42    22]]\n",
      "\n",
      "wpf\n",
      "[[12463     8]\n",
      " [   55   108]]\n",
      "\n",
      "xcode\n",
      "[[12426    26]\n",
      " [  102    80]]\n",
      "\n",
      "xml\n",
      "[[12507    17]\n",
      " [   58    52]]\n",
      "\n"
     ]
    }
   ],
   "source": [
    "for i in range(y_train.shape[1]):\n",
    "    print(multilabel_binarizer.classes_[i])\n",
    "    print(confusion_matrix(y_test[:,i], y_pred[:,i]))\n",
    "    print(\"\")"
   ]
  },
  {
   "cell_type": "markdown",
   "metadata": {
    "_uuid": "5917ac43e2fc1dd4e09cbcd3eaf9d209860c371b"
   },
   "source": [
    "**2.7 Exctracting feature importance**"
   ]
  },
  {
   "cell_type": "code",
   "execution_count": 72,
   "metadata": {
    "_uuid": "cb0790a18efaf21740784c00df81289725a66598"
   },
   "outputs": [],
   "source": [
    "def print_top10(feature_names, clf, class_labels):\n",
    "    \"\"\"Prints features with the highest coefficient values, per class\"\"\"\n",
    "    for i, class_label in enumerate(class_labels):\n",
    "        top10 = np.argsort(clf.coef_[i])[-10:]\n",
    "        print(\"--------------------------------------------\")\n",
    "        print(\"%s: %s\" % (class_label,\n",
    "              \" \".join(feature_names[j] for j in top10)))\n",
    "        print(\"--------------------------------------------\")"
   ]
  },
  {
   "cell_type": "code",
   "execution_count": 73,
   "metadata": {
    "_uuid": "4445db4758034e793a38710a09779bfb9f447c5c"
   },
   "outputs": [],
   "source": [
    "feature_names = vectorizer_X1.get_feature_names() + vectorizer_X2.get_feature_names()"
   ]
  },
  {
   "cell_type": "code",
   "execution_count": 74,
   "metadata": {
    "_uuid": "b586230068efc6554c0c126a2a1aa5dbe33040e8"
   },
   "outputs": [
    {
     "name": "stdout",
     "output_type": "stream",
     "text": [
      "--------------------------------------------\n",
      ".net: determine finally sender windows mouse assembly microsoft consolewriteline .net .net\n",
      "--------------------------------------------\n",
      "--------------------------------------------\n",
      "ajax: much 10 img request web items security load ajax ajax\n",
      "--------------------------------------------\n",
      "--------------------------------------------\n",
      "algorithm: log input additional stick give although diff problem algorithm algorithm\n",
      "--------------------------------------------\n",
      "--------------------------------------------\n",
      "android: webview eandroidruntime linearlayout fragment edittext intent textview activity android android\n",
      "--------------------------------------------\n",
      "--------------------------------------------\n",
      "angularjs: resource factory integrate token config directive controller scope angular angularjs\n",
      "--------------------------------------------\n",
      "--------------------------------------------\n",
      "api: virtual border interface retrieve deal webview docs dependency api api\n",
      "--------------------------------------------\n",
      "--------------------------------------------\n",
      "arrays: particular chart autocomplete rest success username step come array array\n",
      "--------------------------------------------\n",
      "--------------------------------------------\n",
      "asp.net: external port entire trace website control server iis asp.net asp.net\n",
      "--------------------------------------------\n",
      "--------------------------------------------\n",
      "asp.net-mvc: try ie inherit provider action platform view razor mvc mvc\n",
      "--------------------------------------------\n",
      "--------------------------------------------\n",
      "asp.net-mvc-3: us instead prefer description successfully side download view razor mvc3\n",
      "--------------------------------------------\n",
      "--------------------------------------------\n",
      "bash: short local home 21 22 variables syntax script echo bash\n",
      "--------------------------------------------\n",
      "--------------------------------------------\n",
      "c: relevant sizeof define complex char struct embed cc gcc printf\n",
      "--------------------------------------------\n",
      "--------------------------------------------\n",
      "c#: datetime remain sender winforms linq typeof foreach c# consolewriteline c#\n",
      "--------------------------------------------\n",
      "--------------------------------------------\n",
      "c++: c++11 std opencv boost cout cc stl std c++ c++\n",
      "--------------------------------------------\n",
      "--------------------------------------------\n",
      "c++11: obviously initialize tuple standard via std template move auto c++11\n",
      "--------------------------------------------\n",
      "--------------------------------------------\n",
      "class: thing tuple public whenever outside next compiler quite cout class\n",
      "--------------------------------------------\n",
      "--------------------------------------------\n",
      "cocoa: window last notification launch super 21 easily nslog mac cocoa\n",
      "--------------------------------------------\n",
      "--------------------------------------------\n",
      "cocoa-touch: cocoa amount upgrade animation management programatically several validate visible longer\n",
      "--------------------------------------------\n",
      "--------------------------------------------\n",
      "css: trace stick override couple web area less fix css css\n",
      "--------------------------------------------\n",
      "--------------------------------------------\n",
      "css3: initialize ways must transform 50 unknown title initialization selector css3\n",
      "--------------------------------------------\n",
      "--------------------------------------------\n",
      "database: cross ms configuration special iterate db resolve progress database database\n",
      "--------------------------------------------\n",
      "--------------------------------------------\n",
      "datetime: reason 09 provider ex behavior wonder prefer original datetime datetime\n",
      "--------------------------------------------\n",
      "--------------------------------------------\n",
      "debugging: finish value print suppose drive bug attach debug debug debugger\n",
      "--------------------------------------------\n",
      "--------------------------------------------\n",
      "delphi: sample unit old 2010 finally component end begin procedure delphi\n",
      "--------------------------------------------\n",
      "--------------------------------------------\n",
      "design-patterns: think developer specifically script useful compilation design clean pattern pattern\n",
      "--------------------------------------------\n",
      "--------------------------------------------\n",
      "django: instal iterate temporary play textjavascript place admin model django django\n",
      "--------------------------------------------\n",
      "--------------------------------------------\n",
      "eclipse: model properties shortcut others problem explorer pull software eclipse eclipse\n",
      "--------------------------------------------\n",
      "--------------------------------------------\n",
      "emacs: search enable recently behaviour configure 24 mode nil buffer emacs\n",
      "--------------------------------------------\n",
      "--------------------------------------------\n",
      "entity-framework: context property apply framework db first entity framework entity ef\n",
      "--------------------------------------------\n",
      "--------------------------------------------\n",
      "exception: instead wo validate exception insert kind exceptions sense exception exceptions\n",
      "--------------------------------------------\n",
      "--------------------------------------------\n",
      "facebook: class confuse post sdk callback ask effect customize facebook facebook\n",
      "--------------------------------------------\n",
      "--------------------------------------------\n",
      "function: twice bool 24 function length datetime enough sign function definition\n",
      "--------------------------------------------\n",
      "--------------------------------------------\n",
      "gcc: native enable target tutorial margin 32 information declare gcc gcc\n",
      "--------------------------------------------\n",
      "--------------------------------------------\n",
      "generics: setup typeof progress others recently extend via generic generic generics\n",
      "--------------------------------------------\n",
      "--------------------------------------------\n",
      "git: diff repo local commit commit master history branch git git\n",
      "--------------------------------------------\n",
      "--------------------------------------------\n",
      "github: live tag bundle whole unexpected access push upgrade github github\n",
      "--------------------------------------------\n",
      "--------------------------------------------\n",
      "google-chrome: href absolute instead history problems garbage 404 bug chrome chrome\n",
      "--------------------------------------------\n",
      "--------------------------------------------\n",
      "haskell: bool perhaps derive type xs language append maybe instance haskell\n",
      "--------------------------------------------\n",
      "--------------------------------------------\n",
      "hibernate: every retrieve generate nothing entity jpa fetch session transaction hibernate\n",
      "--------------------------------------------\n",
      "--------------------------------------------\n",
      "html: overflow finally td along fix elements onclick div html html\n",
      "--------------------------------------------\n",
      "--------------------------------------------\n",
      "html5: progress maximum proper overflow browser css3 main canvas audio html5\n",
      "--------------------------------------------\n",
      "--------------------------------------------\n",
      "http: enable client param js lose functionality request large http http\n",
      "--------------------------------------------\n",
      "--------------------------------------------\n",
      "image: onclick around 2d confuse activity image yes img image picture\n",
      "--------------------------------------------\n",
      "--------------------------------------------\n",
      "ios: nslog delegate ui due app alloc swift apple ios ios\n",
      "--------------------------------------------\n",
      "--------------------------------------------\n",
      "ipad: finish visible orientation exit ways else detail less hard ipad\n",
      "--------------------------------------------\n",
      "--------------------------------------------\n",
      "iphone: uitableview rather resolution push core 40 release delegate iphone iphone\n",
      "--------------------------------------------\n",
      "--------------------------------------------\n",
      "java: final jar extend tomcat servlet jvm swing systemoutprintln java java\n",
      "--------------------------------------------\n",
      "--------------------------------------------\n",
      "javascript: chart js chrome onclick undefined consolelog var js javascript javascript\n",
      "--------------------------------------------\n",
      "--------------------------------------------\n",
      "jquery: complete global protect click clone plugin ajax ready jquery jquery\n",
      "--------------------------------------------\n",
      "--------------------------------------------\n",
      "json: serialize description callback retrieve absolute anything field original json json\n",
      "--------------------------------------------\n",
      "--------------------------------------------\n",
      "linq: inherit collection source expression member cod solve var well linq\n",
      "--------------------------------------------\n",
      "--------------------------------------------\n",
      "linux: setup fill edit process child cursor state ps linux linux\n",
      "--------------------------------------------\n",
      "--------------------------------------------\n",
      "list: several horizontal faster -1 rather several clear big list list\n",
      "--------------------------------------------\n",
      "--------------------------------------------\n",
      "math: computer hold unique hit log calculate logic fast assume evaluate\n",
      "--------------------------------------------\n",
      "--------------------------------------------\n",
      "maven: info easy increase yes dependency modules advance execution maven maven\n",
      "--------------------------------------------\n",
      "--------------------------------------------\n",
      "mongodb: group thus shell err driver db cursor document collection mongodb\n",
      "--------------------------------------------\n",
      "--------------------------------------------\n",
      "multithreading: completely suggestions 100 solve prevent complete separate thread lock thread\n",
      "--------------------------------------------\n",
      "--------------------------------------------\n",
      "mysql: us users 24 limit database root per track mysql mysql\n",
      "--------------------------------------------\n",
      "--------------------------------------------\n",
      "node.js: virtual schema â require node express node err nodejs node.js\n",
      "--------------------------------------------\n",
      "--------------------------------------------\n",
      "numpy: amazon instead ignore import pure matrix array fix far numpy\n",
      "--------------------------------------------\n",
      "--------------------------------------------\n",
      "objective-c: exceptions ios selector textjavascript super cocoa nsstring nslog objective objective-c\n",
      "--------------------------------------------\n",
      "--------------------------------------------\n",
      "oop: directly object fastest finish couple class obvious fit refer design\n",
      "--------------------------------------------\n",
      "--------------------------------------------\n",
      "optimization: site 05 pad bitmap compiler faster couple root optimization optimize\n",
      "--------------------------------------------\n",
      "--------------------------------------------\n",
      "oracle: management schema number feature end developer max replace begin oracle\n",
      "--------------------------------------------\n",
      "--------------------------------------------\n",
      "osx: cocoa notification setup terminal os apple os mac mac osx\n",
      "--------------------------------------------\n",
      "--------------------------------------------\n",
      "performance: efficient important faster entire ways speed faster performance slow performance\n",
      "--------------------------------------------\n",
      "--------------------------------------------\n",
      "perl: less upgrade trace print script warn job foreach fetch perl\n",
      "--------------------------------------------\n",
      "--------------------------------------------\n",
      "php: modules construct foreach protect echo array codeigniter laravel php php\n",
      "--------------------------------------------\n",
      "--------------------------------------------\n",
      "postgresql: people much heroku several sqlalchemy docs database sure postgres postgresql\n",
      "--------------------------------------------\n",
      "--------------------------------------------\n",
      "python: import pip flask def sqlalchemy matplotlib pandas numpy python python\n",
      "--------------------------------------------\n",
      "--------------------------------------------\n",
      "qt: effect could 30 unsigned connect parent picture actually develop qt\n",
      "--------------------------------------------\n",
      "--------------------------------------------\n",
      "r: variables frame datatable vector function library package na plot ggplot2\n",
      "--------------------------------------------\n",
      "--------------------------------------------\n",
      "regex: either 17 operation replace several regular match regular regex regex\n",
      "--------------------------------------------\n",
      "--------------------------------------------\n",
      "rest: multiple anything entity finish service sense produce rest restful rest\n",
      "--------------------------------------------\n",
      "--------------------------------------------\n",
      "ruby: inject activerecord unfortunately longer put bundle gem end ruby ruby\n",
      "--------------------------------------------\n",
      "--------------------------------------------\n",
      "ruby-on-rails: config production heroku render devise model end activerecord rail rail\n",
      "--------------------------------------------\n",
      "--------------------------------------------\n",
      "ruby-on-rails-3: blank rspec config original assignment 27 rail couple deploy rail\n",
      "--------------------------------------------\n",
      "--------------------------------------------\n",
      "scala: repo transform case extend equal play def val scala scala\n",
      "--------------------------------------------\n",
      "--------------------------------------------\n",
      "security: directly https certificate everything provider software injection security secure security\n",
      "--------------------------------------------\n",
      "--------------------------------------------\n",
      "shell: go sort correct thing 22 parent attach unix shell shell\n",
      "--------------------------------------------\n",
      "--------------------------------------------\n",
      "spring: final response nest entities br primary info bean spring spring\n",
      "--------------------------------------------\n",
      "--------------------------------------------\n",
      "sql: top system per varchar info whole select production sql sql\n",
      "--------------------------------------------\n",
      "--------------------------------------------\n",
      "sql-server: select procedure sql email recommend transaction varchar server studio server\n",
      "--------------------------------------------\n",
      "--------------------------------------------\n",
      "string: remain sign large assign lose tab perform parent string string\n",
      "--------------------------------------------\n",
      "--------------------------------------------\n",
      "svn: fine branch sit ask explorer commit repository svn subversion svn\n",
      "--------------------------------------------\n",
      "--------------------------------------------\n",
      "swift: aware developer active optional protocol init var func let swift\n",
      "--------------------------------------------\n",
      "--------------------------------------------\n",
      "swing: also practice confuse feel gui yet frame new component swing\n",
      "--------------------------------------------\n",
      "--------------------------------------------\n",
      "templates: type codeigniter deal declare article drop simple template template templates\n",
      "--------------------------------------------\n",
      "--------------------------------------------\n",
      "tsql: statement 32 create interest transaction equal real already xml top\n",
      "--------------------------------------------\n",
      "--------------------------------------------\n",
      "twitter-bootstrap: browser important render orientation launch center class less twitter bootstrap\n",
      "--------------------------------------------\n",
      "--------------------------------------------\n",
      "unit-testing: let several trouble things anybody test unit mock unit test\n",
      "--------------------------------------------\n",
      "--------------------------------------------\n",
      "vim: visual let better modify mode stack plugin switch somewhere vim\n",
      "--------------------------------------------\n",
      "--------------------------------------------\n",
      "visual-studio: pointer want whenever visual debug studio big studio visual vs\n",
      "--------------------------------------------\n",
      "--------------------------------------------\n",
      "visual-studio-2010: modules visual great anyway press hit 45 definition 2010 2010\n",
      "--------------------------------------------\n",
      "--------------------------------------------\n",
      "wcf: zero reason security iis layer software cancel bind service wcf\n",
      "--------------------------------------------\n",
      "--------------------------------------------\n",
      "windows: checkbox whether kernel 40 drive dll apps batch windows windows\n",
      "--------------------------------------------\n",
      "--------------------------------------------\n",
      "winforms: explorer operation success windows notification control form form close winforms\n",
      "--------------------------------------------\n",
      "--------------------------------------------\n",
      "wpf: raise resource child control property visual xmlns ui bind wpf\n",
      "--------------------------------------------\n",
      "--------------------------------------------\n",
      "xcode: expect bundle logic target step framework profile attach xcode xcode\n",
      "--------------------------------------------\n",
      "--------------------------------------------\n",
      "xml: clean apple microsoft integration tutorial template xs layoutwidth xml xml\n",
      "--------------------------------------------\n"
     ]
    }
   ],
   "source": [
    "print_top10(feature_names, best_model, multilabel_binarizer.classes_)"
   ]
  }
 ],
 "metadata": {
  "kernelspec": {
   "display_name": "Python 3",
   "language": "python",
   "name": "python3"
  },
  "language_info": {
   "codemirror_mode": {
    "name": "ipython",
    "version": 3
   },
   "file_extension": ".py",
   "mimetype": "text/x-python",
   "name": "python",
   "nbconvert_exporter": "python",
   "pygments_lexer": "ipython3",
   "version": "3.6.8"
  }
 },
 "nbformat": 4,
 "nbformat_minor": 1
}
